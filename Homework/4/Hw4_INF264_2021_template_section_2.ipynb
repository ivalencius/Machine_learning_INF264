{
 "cells": [
  {
   "cell_type": "markdown",
   "metadata": {},
   "source": [
    "# Load dependencies"
   ]
  },
  {
   "cell_type": "code",
   "execution_count": null,
   "metadata": {},
   "outputs": [],
   "source": [
    "import numpy as np\n",
    "import matplotlib\n",
    "import matplotlib.pyplot as plt\n",
    "from sklearn.model_selection import train_test_split, KFold\n",
    "from sklearn.datasets import load_wine\n",
    "from sklearn.preprocessing import scale\n",
    "from tensorflow.keras import Sequential\n",
    "from tensorflow.keras.backend import clear_session\n",
    "from tensorflow.keras.losses import categorical_crossentropy\n",
    "from tensorflow.keras.optimizers import SGD\n",
    "from tensorflow.keras.utils import to_categorical\n",
    "from tensorflow.keras.layers import Dense\n",
    "from tensorflow.random import set_seed"
   ]
  },
  {
   "cell_type": "markdown",
   "metadata": {},
   "source": [
    "# Data preprocessing"
   ]
  },
  {
   "cell_type": "code",
   "execution_count": null,
   "metadata": {},
   "outputs": [],
   "source": [
    "### Scale and center features, transform labels into a one-hot encoding vector:\n",
    "def preprocess_data(X, y):\n",
    "    ..."
   ]
  },
  {
   "cell_type": "markdown",
   "metadata": {},
   "source": [
    "# Load and preprocess the Wine dataset"
   ]
  },
  {
   "cell_type": "code",
   "execution_count": null,
   "metadata": {},
   "outputs": [],
   "source": [
    "# Load the Wine dataset:\n",
    "X = ...\n",
    "y = ...\n",
    "# Shape of the features fed to the MLP:\n",
    "input_shape = ...\n",
    "# Number of classes:\n",
    "num_classes = ...\n",
    "# Preprocess data:\n",
    "X, y = preprocess_data(X, y)"
   ]
  },
  {
   "cell_type": "markdown",
   "metadata": {},
   "source": [
    "# MLP (multi-layer perceptron) builder"
   ]
  },
  {
   "cell_type": "code",
   "execution_count": null,
   "metadata": {},
   "outputs": [],
   "source": [
    "### Construct a simple fully-connected MLP with SGD:\n",
    "def build_MLP(...):\n",
    "    MLP = Sequential()\n",
    "    # Hidden layers (fully connected):\n",
    "    MLP.add(...)\n",
    "    # Output layer (fully-connected):\n",
    "    MLP.add(...)\n",
    "    MLP.compile(loss=...,\n",
    "                optimizer=...,\n",
    "                metrics=...)\n",
    "    return MLP"
   ]
  },
  {
   "cell_type": "markdown",
   "metadata": {},
   "source": [
    "# Train, validate and evaluate a MLP model, and plot the results:"
   ]
  },
  {
   "cell_type": "code",
   "execution_count": null,
   "metadata": {},
   "outputs": [],
   "source": [
    "# Fix the seed for reproducibility:\n",
    "seed = 666\n",
    "np.random.seed(seed)\n",
    "set_seed(seed)\n",
    "# Number of epochs:\n",
    "num_epochs = 20\n",
    "# Train batch size:\n",
    "train_batch_size = 16\n",
    "# Split data into train/val/test sets:\n",
    "...\n",
    "# Load an MLP:\n",
    "model = build_MLP(...)\n",
    "# Display architecture:\n",
    "...\n",
    "# Train and validate MLP, store the training history in a variable:\n",
    "training_history = model.fit(...)\n",
    "# Evaluate the model (on the test set):\n",
    "...\n",
    "# Plot training history (train/validation loss and accuracy values throughout training):\n",
    "..."
   ]
  },
  {
   "cell_type": "markdown",
   "metadata": {},
   "source": [
    "# Model selection of our MLP"
   ]
  },
  {
   "cell_type": "code",
   "execution_count": null,
   "metadata": {},
   "outputs": [],
   "source": [
    "..."
   ]
  }
 ],
 "metadata": {
  "kernelspec": {
   "display_name": "Python 3",
   "language": "python",
   "name": "python3"
  },
  "language_info": {
   "codemirror_mode": {
    "name": "ipython",
    "version": 3
   },
   "file_extension": ".py",
   "mimetype": "text/x-python",
   "name": "python",
   "nbconvert_exporter": "python",
   "pygments_lexer": "ipython3",
   "version": "3.9.6"
  }
 },
 "nbformat": 4,
 "nbformat_minor": 2
}
