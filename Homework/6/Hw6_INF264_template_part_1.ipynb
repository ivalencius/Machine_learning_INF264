{
 "cells": [
  {
   "cell_type": "markdown",
   "metadata": {},
   "source": [
    "# Import dependencies"
   ]
  },
  {
   "cell_type": "code",
   "execution_count": null,
   "metadata": {},
   "outputs": [],
   "source": [
    "%matplotlib notebook\n",
    "import numpy as np\n",
    "from scipy.cluster.hierarchy import linkage, dendrogram\n",
    "from collections import defaultdict\n",
    "import matplotlib.pyplot as plt\n",
    "from mpl_toolkits import mplot3d"
   ]
  },
  {
   "cell_type": "markdown",
   "metadata": {},
   "source": [
    "# Utility"
   ]
  },
  {
   "cell_type": "code",
   "execution_count": null,
   "metadata": {},
   "outputs": [],
   "source": [
    "### Kudos to http://www.nxn.se/valent/extract-cluster-elements-by-color-in-python\n",
    "\n",
    "class Clusters(dict):\n",
    "    def _repr_html_(self):\n",
    "        html = '<table style=\"border: 0;\">'\n",
    "        for c in self:\n",
    "            hx = rgb2hex(colorConverter.to_rgb(c))\n",
    "            html += '<tr style=\"border: 0;\">' \\\n",
    "            '<td style=\"background-color: {0}; ' \\\n",
    "                       'border: 0;\">' \\\n",
    "            '<code style=\"background-color: {0};\">'.format(hx)\n",
    "            html += c + '</code></td>'\n",
    "            html += '<td style=\"border: 0\"><code>' \n",
    "            html += repr(self[c]) + '</code>'\n",
    "            html += '</td></tr>'\n",
    "        \n",
    "        html += '</table>'\n",
    "        \n",
    "        return html\n",
    "\n",
    "def get_cluster_classes(den, label='ivl'):\n",
    "    cluster_idxs = defaultdict(list)\n",
    "    for c, pi in zip(den['color_list'], den['icoord']):\n",
    "        if c == 'grey':\n",
    "            continue\n",
    "        for leg in pi[1:3]:\n",
    "            i = (leg - 5.0) / 10.0\n",
    "            if abs(i - int(i)) < 1e-10:\n",
    "                cluster_idxs[c].append(int(i))\n",
    "    \n",
    "    cluster_classes = Clusters()\n",
    "    for c, l in cluster_idxs.items():\n",
    "        i_l = [den[label][i] for i in l]\n",
    "        cluster_classes[c] = i_l\n",
    "    \n",
    "    return cluster_classes"
   ]
  },
  {
   "cell_type": "markdown",
   "metadata": {},
   "source": [
    "# Load the dataset 'cities_coordinates.txt'"
   ]
  },
  {
   "cell_type": "code",
   "execution_count": null,
   "metadata": {},
   "outputs": [],
   "source": [
    "### TO DO ###"
   ]
  },
  {
   "cell_type": "markdown",
   "metadata": {},
   "source": [
    "# Hierarchical clustering and dendrograms"
   ]
  },
  {
   "cell_type": "code",
   "execution_count": null,
   "metadata": {},
   "outputs": [],
   "source": [
    "color_threshold = ...\n",
    "for l, linkage_type in enumerate(['ward', 'average', 'complete', 'single']):\n",
    "    # Do hierarchichal clustering:\n",
    "    clusters_hierarchy = linkage(...)\n",
    "    plt.figure(l+1)\n",
    "    plt.title(\"Agglomerative hierarchical clustering    Linkage: \" + str(linkage_type) + \"   Threshold: \" + str(color_threshold))\n",
    "    plt.xlabel(\"Distances\") # Depending on the orientation of your dendrogram, it could become plt.ylabel\n",
    "    # Extract and display the dendrogram:\n",
    "    cities_dendrogram = dendrogram(...)\n",
    "    # Get the colors of every city:\n",
    "    colored_clusters = get_cluster_classes(cities_dendrogram)\n",
    "    fig = plt.figure(l+5)\n",
    "    ax = plt.axes(projection='3d')\n",
    "    ax.set_title(\"3D cluster of 30 international cities   Linkage: \" + str(linkage_type) + \"   Threshold: \" + str(color_threshold))\n",
    "    # Display every city on a scatter plot, with the color of its cluster: \n",
    "    for color, cluster_cities in colored_clusters.items():\n",
    "        # Find the index in y of every city in cluster_cities:\n",
    "        cluster_cities_idx = ...\n",
    "        for city_idx in cluster_cities_idx:\n",
    "            # Extract the 3D coordinates of the city, and its name:\n",
    "            city_point = ...\n",
    "            city_name = ...\n",
    "            # Add the city point to the scatterplot, color this point with the color of its cluster in the dendrogram:\n",
    "            ax.scatter3D(...)\n",
    "            # Annotate the scatterplot with the name of the city, colored as well:\n",
    "            ax.text(...)\n",
    "plt.show()"
   ]
  }
 ],
 "metadata": {
  "kernelspec": {
   "display_name": "Python 3",
   "language": "python",
   "name": "python3"
  },
  "language_info": {
   "codemirror_mode": {
    "name": "ipython",
    "version": 3
   },
   "file_extension": ".py",
   "mimetype": "text/x-python",
   "name": "python",
   "nbconvert_exporter": "python",
   "pygments_lexer": "ipython3",
   "version": "3.6.9"
  }
 },
 "nbformat": 4,
 "nbformat_minor": 2
}
