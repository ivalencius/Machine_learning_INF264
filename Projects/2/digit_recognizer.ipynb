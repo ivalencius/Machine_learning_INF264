{
 "cells": [
  {
   "cell_type": "markdown",
   "source": [
    "# Digit Recognizer\r\n",
    "Ilan Valencius"
   ],
   "metadata": {}
  },
  {
   "cell_type": "markdown",
   "source": [
    "# QUESTIONS\r\n",
    "- Is number of layers a hyperparameter?\r\n",
    "- Should I evaluate the best of every model on the test set?\r\n",
    "- Can I use the validation test set when training keras models\r\n",
    "  - If so do I use the model.evaluate() or just use validation accuracy"
   ],
   "metadata": {}
  },
  {
   "cell_type": "markdown",
   "source": [
    "## Load Data\r\n"
   ],
   "metadata": {}
  },
  {
   "cell_type": "code",
   "execution_count": 1,
   "source": [
    "from sklearn.model_selection import train_test_split, KFold, cross_val_score\r\n",
    "from sklearn.metrics import accuracy_score\r\n",
    "import numpy as np\r\n",
    "import keras\r\n",
    "import matplotlib.pyplot as plt\r\n",
    "from math import log, exp\r\n",
    "import itertools\r\n",
    "import os\r\n",
    "from PIL import Image as im\r\n",
    "from sklearn import svm"
   ],
   "outputs": [],
   "metadata": {}
  },
  {
   "cell_type": "markdown",
   "source": [
    "Install Tensorflow GPU (CANT RUN IN INF264 venv)"
   ],
   "metadata": {}
  },
  {
   "cell_type": "code",
   "execution_count": 2,
   "source": [
    "# os.add_dll_directory(\"C:/Program Files/NVIDIA GPU Computing Toolkit/CUDA/v11.4/bin\")\r\n",
    "from tensorflow.keras.callbacks import EarlyStopping\r\n",
    "from tensorflow.keras import Sequential, layers\r\n",
    "from tensorflow.keras.losses import categorical_crossentropy\r\n",
    "from tensorflow.keras.utils import to_categorical\r\n",
    "from tensorflow.keras.layers import Conv2D, MaxPooling2D\r\n",
    "import tensorflow as tf\r\n",
    "# print(tf.__version__)\r\n",
    "# print(tf.config.list_physical_devices())\r\n",
    "# sess = tf.Session()\r\n",
    "# To Check GPU usage\r\n",
    "# print(\"Num GPUs Available: \", len(tf.config.list_physical_devices('GPU')))\r\n",
    "\r\n",
    "\r\n",
    "# tf.test.is_gpu_available()\r\n",
    "# tf.test.is_built_with_cuda()\r\n",
    "# tf.compat.v1.disable_eager_execution()\r\n",
    "\r\n",
    "# hello = tf.constant('Hello, TensorFlow!')\r\n",
    "\r\n",
    "# sess = tf.compat.v1.Session()\r\n",
    "\r\n",
    "# print(sess.run(hello))\r\n"
   ],
   "outputs": [],
   "metadata": {}
  },
  {
   "cell_type": "code",
   "execution_count": 3,
   "source": [
    "# Load CSV data\r\n",
    "x_data = np.genfromtxt('handwritten_digits_images.csv', delimiter=',')\r\n",
    "y_data = np.genfromtxt('handwritten_digits_labels.csv', delimiter=',')"
   ],
   "outputs": [],
   "metadata": {}
  },
  {
   "cell_type": "code",
   "execution_count": 4,
   "source": [
    "# Reshape images into 28 x 28 images\r\n",
    "# x_data = x_data.reshape(x_data.shape[0], 28, 28)\r\n",
    "\r\n",
    "# Plot image for quick sanity check\r\n",
    "plt.imshow(x_data.reshape(x_data.shape[0], 28, 28)[60000], cmap='Greys')"
   ],
   "outputs": [
    {
     "output_type": "execute_result",
     "data": {
      "text/plain": [
       "<matplotlib.image.AxesImage at 0x29f32ddbe20>"
      ]
     },
     "metadata": {},
     "execution_count": 4
    },
    {
     "output_type": "display_data",
     "data": {
      "image/png": "[encoded data removed]",
      "text/plain": [
       "<Figure size 432x288 with 1 Axes>"
      ]
     },
     "metadata": {
      "needs_background": "light"
     }
    }
   ],
   "metadata": {}
  },
  {
   "cell_type": "markdown",
   "source": [
    "Create train, validation, test sets"
   ],
   "metadata": {}
  },
  {
   "cell_type": "code",
   "execution_count": 5,
   "source": [
    "seed = 120\r\n",
    "\r\n",
    "x_train_val, x_test, y_train_val, y_test = train_test_split(x_data,\r\n",
    "                                                            y_data,\r\n",
    "                                                            test_size=0.2,\r\n",
    "                                                            random_state=seed,\r\n",
    "                                                            shuffle=True)\r\n",
    "\r\n",
    "x_train, x_val, y_train, y_val = train_test_split(x_train_val,\r\n",
    "                                                  y_train_val,\r\n",
    "                                                  test_size=0.3,\r\n",
    "                                                  random_state=seed, \r\n",
    "                                                  shuffle=True)\r\n",
    "\r\n",
    "# Variables for model parameters\r\n",
    "y_classes = len(np.unique(y_data))"
   ],
   "outputs": [],
   "metadata": {}
  },
  {
   "cell_type": "markdown",
   "source": [
    "Lists to store the best model from each type and its respective validation accuracy"
   ],
   "metadata": {}
  },
  {
   "cell_type": "code",
   "execution_count": 6,
   "source": [
    "# To compare models\r\n",
    "model_type_accs = []\r\n",
    "model_type_best = []"
   ],
   "outputs": [],
   "metadata": {}
  },
  {
   "cell_type": "markdown",
   "source": [
    "## Model 1 - MLP"
   ],
   "metadata": {}
  },
  {
   "cell_type": "code",
   "execution_count": 7,
   "source": [
    "def construct_MLP(input_shape, add_layer=False, activation='relu'):\r\n",
    "    # Create model\r\n",
    "    MLP = Sequential()\r\n",
    "    MLP.add(layers.InputLayer(input_shape=input_shape))\r\n",
    "    # Intermediate Layers\r\n",
    "    if add_layer:\r\n",
    "        MLP.add(layers.Dense(32, activation=activation))\r\n",
    "    # Output layer (fully-connected):\r\n",
    "    MLP.add(layers.Dense(y_classes, activation='softmax'))\r\n",
    "    # Compile Model\r\n",
    "    MLP.compile(optimizer='adam',\r\n",
    "                loss=categorical_crossentropy,\r\n",
    "                metrics=['accuracy'])\r\n",
    "    return MLP\r\n",
    "            "
   ],
   "outputs": [],
   "metadata": {}
  },
  {
   "cell_type": "markdown",
   "source": [
    "Test MLP Model\r\n",
    "\r\n",
    "*Note* - With all parameters at 10 epochs can take around 5 minutes (using non GPU accelerated)"
   ],
   "metadata": {}
  },
  {
   "cell_type": "code",
   "execution_count": 8,
   "source": [
    "y_train_one_hot = to_categorical(y_train)\r\n",
    "y_val_one_hot = to_categorical(y_val)\r\n",
    "\r\n",
    "# Set up hyperparameters to test\r\n",
    "add_layers = [True, False]\r\n",
    "activation = ['relu', 'sigmoid', 'softmax', 'tanh']\r\n",
    "MLP_params = list(itertools.product(add_layers, activation))\r\n",
    "\r\n",
    "batch_sz = 64\r\n",
    "max_epochs = 10\r\n",
    "MLP_val_accs = []\r\n",
    "MLP_models = []\r\n",
    "# If you want Val_loss and Val_accuracy plots \r\n",
    "MLP_plotting = False\r\n",
    "# Iterate through and test every model\r\n",
    "for add_layer, act in MLP_params:\r\n",
    "    # print(tf.config.list_physical_devices())\r\n",
    "    MLP = construct_MLP(input_shape=784 ,add_layer=add_layer, activation=act)\r\n",
    "    # MLP_test.summary()\r\n",
    "    # Early callback stopping to avoid overfitting\r\n",
    "    callback = EarlyStopping(monitor='val_loss',\r\n",
    "                             patience=3,\r\n",
    "                             restore_best_weights=True)\r\n",
    "    \r\n",
    "    training_history = MLP.fit(x=x_train,y=y_train_one_hot,\r\n",
    "                                batch_size=batch_sz,\r\n",
    "                                epochs=max_epochs,\r\n",
    "                                validation_data=(x_val,y_val_one_hot),\r\n",
    "                                use_multiprocessing=True,\r\n",
    "                                verbose=0,\r\n",
    "                                callbacks=[callback])\r\n",
    "    MLP_models.append(MLP)\r\n",
    "    \r\n",
    "    val_acc = training_history.history['val_accuracy']\r\n",
    "    MLP_val_accs.append(max(val_acc))\r\n",
    "    if MLP_plotting:\r\n",
    "        fig, (ax1, ax2) = plt.subplots(1, 2)\r\n",
    "        fig.suptitle('MLP Model - %d layers | %s activation'%(layer_num, act))\r\n",
    "        \r\n",
    "        loss = training_history.history['loss']\r\n",
    "        val_loss = training_history.history['val_loss']\r\n",
    "        acc = training_history.history['accuracy']\r\n",
    "        \r\n",
    "        epochs = range(1, len(loss) + 1)\r\n",
    "        ax1.plot(epochs, loss, 'y', label='Training loss')\r\n",
    "        ax1.plot(epochs, val_loss, 'r', label='Validation loss')\r\n",
    "        ax1.title.set_text('Training and validation loss')\r\n",
    "        ax1.set_xlabel('Epochs')\r\n",
    "        ax1.set_ylabel('Loss')\r\n",
    "        ax1.legend(loc='best')\r\n",
    "        \r\n",
    "        ax2.plot(epochs, acc, 'y', label='Training Accuracy')\r\n",
    "        ax2.plot(epochs, val_acc, 'r', label='Validation Accuracy')\r\n",
    "        ax2.title.set_text('Training and validation Accuracy')\r\n",
    "        ax2.set_xlabel('Epochs')\r\n",
    "        ax2.set_ylabel('Accuracy')\r\n",
    "        ax2.legend(loc='best')\r\n",
    " "
   ],
   "outputs": [],
   "metadata": {}
  },
  {
   "cell_type": "markdown",
   "source": [
    "Determine best MLP model (using validation set)"
   ],
   "metadata": {}
  },
  {
   "cell_type": "code",
   "execution_count": 9,
   "source": [
    "# Evaluate best model via validation accuracy\r\n",
    "best_MLP_idx = MLP_val_accs.index(max(MLP_val_accs))\r\n",
    "best_MLP = MLP_models[best_MLP_idx]\r\n",
    "model_type_best.append(best_MLP)\r\n",
    "best_MLP.summary()\r\n",
    "\r\n",
    "activation = best_MLP.layers[1].get_config()['activation']\r\n",
    "num_layers = len(best_MLP.layers)\r\n",
    "\r\n",
    "print('\\n\\tActivation: %s\\n\\tNumber of Layers: %d'%(activation, num_layers))\r\n",
    "\r\n",
    "# Evaluate on validation accuracy again and plot \r\n",
    "MLP_eval = best_MLP.evaluate(x=x_val, y=y_val_one_hot, use_multiprocessing=True, verbose=0)\r\n",
    "MLP_loss = MLP_eval[0]\r\n",
    "MLP_acc = MLP_eval[1]\r\n",
    "\r\n",
    "model_type_accs.append(MLP_acc)\r\n",
    "\r\n",
    "print('\\nValidation Set Evaluation:')\r\n",
    "print('\\tLoss: %f | Accuracy: %f'%(MLP_loss, MLP_acc))\r\n",
    "# Plot training history (train/validation loss and accuracy values throughout training):\r\n",
    "loss = training_history.history['loss']\r\n",
    "val_loss = training_history.history['val_loss']\r\n",
    "epochs = range(1, len(loss) + 1)\r\n",
    "plt.plot(epochs, loss, 'y', label='Training loss')\r\n",
    "plt.plot(epochs, val_loss, 'r', label='Validation loss')\r\n",
    "plt.title('Training and validation loss')\r\n",
    "plt.xlabel('Epochs')\r\n",
    "plt.ylabel('Loss')\r\n",
    "plt.legend()\r\n",
    "plt.show()\r\n",
    "\r\n",
    "acc = training_history.history['accuracy']\r\n",
    "val_acc = training_history.history['val_accuracy']\r\n",
    "\r\n",
    "plt.plot(epochs, acc, 'y', label='Training Accuracy')\r\n",
    "plt.plot(epochs, val_acc, 'r', label='Validation Accuracy')\r\n",
    "plt.title('Training and validation Accuracy')\r\n",
    "plt.xlabel('Epochs')\r\n",
    "plt.ylabel('Accuracy')\r\n",
    "plt.legend()\r\n",
    "plt.show()"
   ],
   "outputs": [
    {
     "output_type": "stream",
     "name": "stdout",
     "text": [
      "Model: \"sequential\"\n",
      "_________________________________________________________________\n",
      "Layer (type)                 Output Shape              Param #   \n",
      "=================================================================\n",
      "dense (Dense)                (None, 32)                25120     \n",
      "_________________________________________________________________\n",
      "dense_1 (Dense)              (None, 10)                330       \n",
      "=================================================================\n",
      "Total params: 25,450\n",
      "Trainable params: 25,450\n",
      "Non-trainable params: 0\n",
      "_________________________________________________________________\n",
      "\n",
      "\tActivation: softmax\n",
      "\tNumber of Layers: 2\n",
      "\n",
      "Validation Set Evaluation:\n",
      "\tLoss: 0.341727 | Accuracy: 0.911190\n"
     ]
    },
    {
     "output_type": "display_data",
     "data": {
      "image/png": "[encoded data removed]",
      "text/plain": [
       "<Figure size 432x288 with 1 Axes>"
      ]
     },
     "metadata": {
      "needs_background": "light"
     }
    },
    {
     "output_type": "display_data",
     "data": {
      "image/png": "[encoded data removed]",
      "text/plain": [
       "<Figure size 432x288 with 1 Axes>"
      ]
     },
     "metadata": {
      "needs_background": "light"
     }
    }
   ],
   "metadata": {}
  },
  {
   "cell_type": "markdown",
   "source": [
    "## Model 2 - CNN"
   ],
   "metadata": {}
  },
  {
   "cell_type": "code",
   "execution_count": 10,
   "source": [
    "def construct_CNN(input_shape, additional_layer=False, activation='relu'):\r\n",
    "    # Create model\r\n",
    "    CNN = Sequential()\r\n",
    "    # Intermediate Layers\r\n",
    "    CNN.add(layers.Conv2D(28, (3, 3), activation=activation, input_shape=input_shape))\r\n",
    "    CNN.add(layers.MaxPooling2D((2, 2)))\r\n",
    "    CNN.add(layers.Conv2D(56, (3, 3), activation=activation))\r\n",
    "    if additional_layer:\r\n",
    "        CNN.add(layers.MaxPooling2D((2, 2)))\r\n",
    "        CNN.add(layers.Conv2D(56, (3, 3), activation=activation))\r\n",
    "    # Output layer (fully-connected):\r\n",
    "    CNN.add(layers.Flatten())\r\n",
    "    CNN.add(layers.Dense(y_classes, activation='softmax'))\r\n",
    "    # Compile Model\r\n",
    "    CNN.compile(optimizer='adam',\r\n",
    "                loss=categorical_crossentropy,\r\n",
    "                metrics=['accuracy'])\r\n",
    "    return CNN"
   ],
   "outputs": [],
   "metadata": {}
  },
  {
   "cell_type": "markdown",
   "source": [
    "Test CNN Model"
   ],
   "metadata": {}
  },
  {
   "cell_type": "code",
   "execution_count": 11,
   "source": [
    "# Set up hyperparameters to test\r\n",
    "add_layers = [False, True]\r\n",
    "activation = ['relu', 'sigmoid', 'softmax', 'tanh']\r\n",
    "CNN_params = list(itertools.product(add_layers, activation))\r\n",
    "\r\n",
    "CNN_val_accs = []\r\n",
    "CNN_models = []\r\n",
    "# If you want Val_loss and Val_accuracy plots \r\n",
    "CNN_plotting = False\r\n",
    "\r\n",
    "# Reshape x_train into (28, 28) imgs\r\n",
    "x_train_img = x_train.reshape(x_train.shape[0], 28, 28, 1)\r\n",
    "x_val_img = x_val.reshape(x_val.shape[0], 28, 28, 1)\r\n",
    "\r\n",
    "\r\n",
    "# Iterate through and test every model\r\n",
    "for add_layer, act in CNN_params:\r\n",
    "    CNN = construct_CNN(input_shape=(28, 28, 1) ,additional_layer=add_layer, activation=act)\r\n",
    "    # CNN.summary()\r\n",
    "    # Early callback stopping to avoid overfitting\r\n",
    "    callback = EarlyStopping(monitor='val_loss',\r\n",
    "                             patience=3,\r\n",
    "                             restore_best_weights=True)\r\n",
    "    \r\n",
    "    training_history = CNN.fit(x=x_train_img,y=y_train_one_hot,\r\n",
    "                                batch_size=batch_sz,\r\n",
    "                                epochs=max_epochs,\r\n",
    "                                validation_data=(x_val_img,y_val_one_hot),\r\n",
    "                                use_multiprocessing=True,\r\n",
    "                                verbose=0,\r\n",
    "                                callbacks=[callback])\r\n",
    "    CNN_models.append(MLP)\r\n",
    "    \r\n",
    "    val_acc = training_history.history['val_accuracy']\r\n",
    "    CNN_val_accs.append(max(val_acc))\r\n",
    "    if CNN_plotting:\r\n",
    "        fig, (ax1, ax2) = plt.subplots(1, 2)\r\n",
    "        fig.suptitle('CNN Model - %d additional layers | %s activation'%(layer_num, act))\r\n",
    "        \r\n",
    "        loss = training_history.history['loss']\r\n",
    "        val_loss = training_history.history['val_loss']\r\n",
    "        acc = training_history.history['accuracy']\r\n",
    "        \r\n",
    "        epochs = range(1, len(loss) + 1)\r\n",
    "        ax1.plot(epochs, loss, 'y', label='Training loss')\r\n",
    "        ax1.plot(epochs, val_loss, 'r', label='Validation loss')\r\n",
    "        ax1.title.set_text('Training and validation loss')\r\n",
    "        ax1.set_xlabel('Epochs')\r\n",
    "        ax1.set_ylabel('Loss')\r\n",
    "        ax1.legend(loc='best')\r\n",
    "        \r\n",
    "        ax2.plot(epochs, acc, 'y', label='Training Accuracy')\r\n",
    "        ax2.plot(epochs, val_acc, 'r', label='Validation Accuracy')\r\n",
    "        ax2.title.set_text('Training and validation Accuracy')\r\n",
    "        ax2.set_xlabel('Epochs')\r\n",
    "        ax2.set_ylabel('Accuracy')\r\n",
    "        ax2.legend(loc='best')"
   ],
   "outputs": [],
   "metadata": {}
  },
  {
   "cell_type": "markdown",
   "source": [
    "Determine best CNN Model (using validation set)"
   ],
   "metadata": {}
  },
  {
   "cell_type": "code",
   "execution_count": 13,
   "source": [
    "# Evaluate best model via validation accuracy\r\n",
    "best_CNN_idx = CNN_val_accs.index(max(CNN_val_accs))\r\n",
    "best_CNN = CNN_models[best_CNN_idx]\r\n",
    "model_type_best.append(best_CNN)\r\n",
    "best_CNN.summary()\r\n",
    "\r\n",
    "activation = best_CNN.layers[0].get_config()['activation']\r\n",
    "num_layers = len(best_CNN.layers)\r\n",
    "\r\n",
    "print('\\n\\tActivation: %s\\n\\tNumber of Layers: %d'%(activation, num_layers))\r\n",
    "\r\n",
    "# DO I NEED TO DO THIS???\r\n",
    "# Evaluate on validation accuracy again and plot \r\n",
    "CNN_eval = best_CNN.evaluate(x=x_val, y=y_val_one_hot, use_multiprocessing=True, verbose=0)\r\n",
    "CNN_loss = CNN_eval[0]\r\n",
    "CNN_acc = CNN_eval[1]\r\n",
    "\r\n",
    "model_type_accs.append(CNN_acc)\r\n",
    "\r\n",
    "print('\\nValidation Set Evaluation:')\r\n",
    "print('\\tLoss: %f | Accuracy: %f'%(CNN_loss, CNN_acc))\r\n",
    "# Plot training history (train/validation loss and accuracy values throughout training):\r\n",
    "loss = training_history.history['loss']\r\n",
    "val_loss = training_history.history['val_loss']\r\n",
    "epochs = range(1, len(loss) + 1)\r\n",
    "plt.plot(epochs, loss, 'y', label='Training loss')\r\n",
    "plt.plot(epochs, val_loss, 'r', label='Validation loss')\r\n",
    "plt.title('Training and validation loss')\r\n",
    "plt.xlabel('Epochs')\r\n",
    "plt.ylabel('Loss')\r\n",
    "plt.legend()\r\n",
    "plt.show()\r\n",
    "\r\n",
    "acc = training_history.history['accuracy']\r\n",
    "val_acc = training_history.history['val_accuracy']\r\n",
    "\r\n",
    "plt.plot(epochs, acc, 'y', label='Training Accuracy')\r\n",
    "plt.plot(epochs, val_acc, 'r', label='Validation Accuracy')\r\n",
    "plt.title('Training and validation Accuracy')\r\n",
    "plt.xlabel('Epochs')\r\n",
    "plt.ylabel('Accuracy')\r\n",
    "plt.legend()\r\n",
    "plt.show()"
   ],
   "outputs": [
    {
     "output_type": "stream",
     "name": "stdout",
     "text": [
      "Model: \"sequential_7\"\n",
      "_________________________________________________________________\n",
      "Layer (type)                 Output Shape              Param #   \n",
      "=================================================================\n",
      "dense_11 (Dense)             (None, 10)                7850      \n",
      "=================================================================\n",
      "Total params: 7,850\n",
      "Trainable params: 7,850\n",
      "Non-trainable params: 0\n",
      "_________________________________________________________________\n",
      "\n",
      "\tActivation: softmax\n",
      "\tNumber of Layers: 1\n",
      "\n",
      "Validation Set Evaluation:\n",
      "\tLoss: 4.550859 | Accuracy: 0.884702\n"
     ]
    },
    {
     "output_type": "display_data",
     "data": {
      "image/png": "[encoded data removed]",
      "text/plain": [
       "<Figure size 432x288 with 1 Axes>"
      ]
     },
     "metadata": {
      "needs_background": "light"
     }
    },
    {
     "output_type": "display_data",
     "data": {
      "image/png": "[encoded data removed]",
      "text/plain": [
       "<Figure size 432x288 with 1 Axes>"
      ]
     },
     "metadata": {
      "needs_background": "light"
     }
    }
   ],
   "metadata": {}
  },
  {
   "cell_type": "markdown",
   "source": [
    "# Model 3 - SVC"
   ],
   "metadata": {}
  },
  {
   "cell_type": "markdown",
   "source": [
    "Test SVC Model (73 minutes full parameter list)"
   ],
   "metadata": {}
  },
  {
   "cell_type": "code",
   "execution_count": 14,
   "source": [
    "# Set up hyperparameters to test\r\n",
    "Cs = [0.25, 0.5, 1]\r\n",
    "kernels = ['poly', 'rbf', 'sigmoid'] # Dont use linear because linear is worse rbf\r\n",
    "SVC_params = list(itertools.product(Cs, kernels))\r\n",
    "\r\n",
    "SVC_val_accs = []\r\n",
    "SVC_models = []\r\n",
    "\r\n",
    "verbose=False\r\n",
    "# Train and evaluate models\r\n",
    "for C, kernel in SVC_params:\r\n",
    "    SVC = svm.SVC(C=C, kernel=kernel, verbose=verbose)\r\n",
    "    # Fit model\r\n",
    "    SVC.fit(x_train, y_train)\r\n",
    "    #Evaluate\r\n",
    "    SVC_models.append(SVC)\r\n",
    "    y_pred = SVC.predict(x_val)\r\n",
    "    SVC_val_accs.append(accuracy_score(y_val, y_pred))"
   ],
   "outputs": [],
   "metadata": {}
  },
  {
   "cell_type": "markdown",
   "source": [
    "Determine best SVC model (using validation set)"
   ],
   "metadata": {}
  },
  {
   "cell_type": "code",
   "execution_count": 16,
   "source": [
    "# Evaluate best model via validation accuracy\r\n",
    "best_SVC_idx = SVC_val_accs.index(max(SVC_val_accs))\r\n",
    "best_SVC = SVC_models[best_SVC_idx]\r\n",
    "model_type_best.append(best_SVC)\r\n",
    "\r\n",
    "print('\\nValidation Set Evaluation:')\r\n",
    "print('\\tAccuracy: %f'%(max(SVC_val_accs)))\r\n",
    "print('\\nModel Parameters:')\r\n",
    "print(best_SVC.get_params(deep=False))"
   ],
   "outputs": [
    {
     "output_type": "stream",
     "name": "stdout",
     "text": [
      "\n",
      "Validation Set Evaluation:\n",
      "\tAccuracy: 0.976131\n",
      "\n",
      "Model Parameters:\n",
      "{'C': 1, 'break_ties': False, 'cache_size': 200, 'class_weight': None, 'coef0': 0.0, 'decision_function_shape': 'ovr', 'degree': 3, 'gamma': 'scale', 'kernel': 'rbf', 'max_iter': -1, 'probability': False, 'random_state': None, 'shrinking': True, 'tol': 0.001, 'verbose': False}\n"
     ]
    }
   ],
   "metadata": {}
  },
  {
   "cell_type": "markdown",
   "source": [
    "# Final Model Selection"
   ],
   "metadata": {}
  },
  {
   "cell_type": "markdown",
   "source": [
    "Determine best model on validation data"
   ],
   "metadata": {}
  },
  {
   "cell_type": "code",
   "execution_count": 17,
   "source": [
    "best_model_idx = model_type_accs.index(max(model_type_accs))\r\n",
    "best_model = model_type_best[best_model_idx]"
   ],
   "outputs": [],
   "metadata": {}
  },
  {
   "cell_type": "markdown",
   "source": [
    "Evaluate best model performance on test data"
   ],
   "metadata": {}
  },
  {
   "cell_type": "code",
   "execution_count": 18,
   "source": [
    "if best_model_idx == 2: # SVM model\r\n",
    "    print('Model Type -> SVC')\r\n",
    "    y_pred = SVC.predict(x_test)\r\n",
    "    best_acc = accuracy_score(y_test, y_pred)\r\n",
    "    print('\\nTest Set Evaluation:')\r\n",
    "    print('\\tAccuracy: %f'%(best_acc))\r\n",
    "    \r\n",
    "else # MLP OR CNN\r\n",
    "    if best_model_idx == 0: print('Model Type -> MLP')\r\n",
    "    else: print('Model Type -> CNN')\r\n",
    "    y_test_one_hot = to_categorical(y_test)\r\n",
    "    \r\n",
    "    best_model.summary()\r\n",
    "    activation = best_model.layers[0].get_config()['activation']\r\n",
    "    num_layers = len(best_model.layers)\r\n",
    "    print('\\n\\tActivation: %s\\n\\tNumber of Layers: %d'%(activation, num_layers))\r\n",
    "    \r\n",
    "    best_eval = best_model.evaluate(x=x_test, y=y_test_one_hot, use_multiprocessing=True, verbose=0)\r\n",
    "    best_loss = best_eval[0]\r\n",
    "    best_acc = best_eval[1]\r\n",
    "\r\n",
    "    print('\\nTest Set Evaluation:')\r\n",
    "    print('\\tLoss: %f | Accuracy: %f'%(best_loss, best_acc))"
   ],
   "outputs": [
    {
     "output_type": "error",
     "ename": "SyntaxError",
     "evalue": "invalid syntax (Temp/ipykernel_17204/3249090001.py, line 1)",
     "traceback": [
      "\u001b[1;36m  File \u001b[1;32m\"C:\\Users\\ilanv\\AppData\\Local\\Temp/ipykernel_17204/3249090001.py\"\u001b[1;36m, line \u001b[1;32m1\u001b[0m\n\u001b[1;33m    if best_model_idx == 2 # SVM model\u001b[0m\n\u001b[1;37m                           ^\u001b[0m\n\u001b[1;31mSyntaxError\u001b[0m\u001b[1;31m:\u001b[0m invalid syntax\n"
     ]
    }
   ],
   "metadata": {}
  }
 ],
 "metadata": {
  "orig_nbformat": 4,
  "language_info": {
   "name": "python",
   "version": "3.8.10",
   "mimetype": "text/x-python",
   "codemirror_mode": {
    "name": "ipython",
    "version": 3
   },
   "pygments_lexer": "ipython3",
   "nbconvert_exporter": "python",
   "file_extension": ".py"
  },
  "kernelspec": {
   "name": "python3",
   "display_name": "Python 3.8.10 64-bit (windows store)"
  },
  "interpreter": {
   "hash": "f8dc394fe8b851e8fee8bf44b9060daf20dc28cf237837a1e07d4467514055a5"
  }
 },
 "nbformat": 4,
 "nbformat_minor": 2
}