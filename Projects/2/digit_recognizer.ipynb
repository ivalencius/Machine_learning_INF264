{
 "cells": [
  {
   "cell_type": "markdown",
   "source": [
    "# Digit Recognizer\r\n",
    "Ilan Valencius"
   ],
   "metadata": {}
  },
  {
   "cell_type": "markdown",
   "source": [
    "# QUESTIONS\r\n",
    "- Is number of layers a hyperparameter?\r\n",
    "- Should I evaluate the best of every model on the test set?"
   ],
   "metadata": {}
  },
  {
   "cell_type": "markdown",
   "source": [
    "## Load Data\r\n"
   ],
   "metadata": {}
  },
  {
   "cell_type": "code",
   "execution_count": 3,
   "source": [
    "from sklearn.model_selection import train_test_split, KFold, cross_val_score\r\n",
    "from sklearn.metrics import accuracy_score\r\n",
    "import numpy as np\r\n",
    "import keras\r\n",
    "import matplotlib.pyplot as plt\r\n",
    "from math import log, exp\r\n",
    "import itertools\r\n",
    "import tensorflow as tf\r\n",
    "from tensorflow.keras.callbacks import EarlyStopping\r\n",
    "from tensorflow.keras import Sequential, layers\r\n",
    "from tensorflow.keras.losses import categorical_crossentropy\r\n",
    "from tensorflow.keras.utils import to_categorical"
   ],
   "outputs": [],
   "metadata": {}
  },
  {
   "cell_type": "code",
   "execution_count": 4,
   "source": [
    "# Load CSV data\r\n",
    "x_data = np.genfromtxt('handwritten_digits_images.csv', delimiter=',')\r\n",
    "y_data = np.genfromtxt('handwritten_digits_labels.csv', delimiter=',')"
   ],
   "outputs": [],
   "metadata": {}
  },
  {
   "cell_type": "code",
   "execution_count": 5,
   "source": [
    "# Reshape images into 28 x 28 images\r\n",
    "# x_data = x_data.reshape(x_data.shape[0], 28, 28)\r\n",
    "\r\n",
    "# Plot image for quick sanity check\r\n",
    "plt.imshow(x_data.reshape(x_data.shape[0], 28, 28)[60000], cmap='Greys')"
   ],
   "outputs": [
    {
     "output_type": "execute_result",
     "data": {
      "text/plain": [
       "<matplotlib.image.AxesImage at 0x2472c56fca0>"
      ]
     },
     "metadata": {},
     "execution_count": 5
    },
    {
     "output_type": "display_data",
     "data": {
      "image/png": "[encoded data removed]",
      "text/plain": [
       "<Figure size 432x288 with 1 Axes>"
      ]
     },
     "metadata": {
      "needs_background": "light"
     }
    }
   ],
   "metadata": {}
  },
  {
   "cell_type": "markdown",
   "source": [
    "## Create train, validation, test sets"
   ],
   "metadata": {}
  },
  {
   "cell_type": "code",
   "execution_count": 6,
   "source": [
    "seed = 120\r\n",
    "\r\n",
    "x_train_val, x_test, y_train_val, y_test = train_test_split(x_data,\r\n",
    "                                                            y_data,\r\n",
    "                                                            test_size=0.2,\r\n",
    "                                                            random_state=seed,\r\n",
    "                                                            shuffle=True)\r\n",
    "\r\n",
    "x_train, x_val, y_train, y_val = train_test_split(x_train_val,\r\n",
    "                                                  y_train_val,\r\n",
    "                                                  test_size=0.3,\r\n",
    "                                                  random_state=seed, \r\n",
    "                                                  shuffle=True)\r\n",
    "\r\n",
    "# Variables for model parameters\r\n",
    "y_classes = len(np.unique(y_data))"
   ],
   "outputs": [],
   "metadata": {}
  },
  {
   "cell_type": "code",
   "execution_count": 31,
   "source": [
    "# To compare models\r\n",
    "model_type_accs = []\r\n",
    "model_type_best = []"
   ],
   "outputs": [],
   "metadata": {}
  },
  {
   "cell_type": "markdown",
   "source": [
    "## Model 1 - MLP"
   ],
   "metadata": {}
  },
  {
   "cell_type": "code",
   "execution_count": 17,
   "source": [
    "def construct_MLP(input_shape, num_layers=10, activation='relu'):\r\n",
    "    # Create model\r\n",
    "    MLP = Sequential()\r\n",
    "    MLP.add(layers.InputLayer(input_shape=input_shape))\r\n",
    "    # Intermediate Layers\r\n",
    "    for _ in range(num_layers):\r\n",
    "        MLP.add(layers.Dense(32, activation=activation))\r\n",
    "    # Output layer (fully-connected):\r\n",
    "    MLP.add(layers.Dense(y_classes, activation='softmax'))\r\n",
    "    # Compile Model\r\n",
    "    MLP.compile(optimizer='adam',\r\n",
    "                loss=categorical_crossentropy,\r\n",
    "                metrics=['accuracy'])\r\n",
    "    return MLP\r\n",
    "            "
   ],
   "outputs": [],
   "metadata": {}
  },
  {
   "cell_type": "markdown",
   "source": [
    "Test MLP Model\r\n",
    "\r\n",
    "*Note* - With all parameters at 10 epochs can take around 350 sec (NOT AN ERROR)"
   ],
   "metadata": {}
  },
  {
   "cell_type": "code",
   "execution_count": 33,
   "source": [
    "y_train_one_hot = to_categorical(y_train)\r\n",
    "y_val_one_hot = to_categorical(y_val)\r\n",
    "\r\n",
    "# Set up hyperparameters to test\r\n",
    "num_layers = [1, 2, 5, 10]\r\n",
    "activation = ['relu', 'sigmoid', 'softmax', 'tanh']\r\n",
    "MLP_params = list(itertools.product(num_layers, activation))\r\n",
    "\r\n",
    "batch_sz = 64\r\n",
    "max_epochs = 10\r\n",
    "MLP_val_accs = []\r\n",
    "MLP_models = []\r\n",
    "# If you want Val_loss and Val_accuracy plots \r\n",
    "MLP_plotting = False\r\n",
    "# Iterate through and test every model\r\n",
    "for layer_num, act in MLP_params:\r\n",
    "    MLP = construct_MLP(input_shape=784 ,num_layers=layer_num, activation=act)\r\n",
    "    # MLP_test.summary()\r\n",
    "    # Early callback stopping to avoid overfitting\r\n",
    "    callback = EarlyStopping(monitor='val_loss',\r\n",
    "                             patience=3,\r\n",
    "                             restore_best_weights=True)\r\n",
    "    \r\n",
    "    training_history = MLP.fit(x=x_train,y=y_train_one_hot,\r\n",
    "                                batch_size=batch_sz,\r\n",
    "                                epochs=max_epochs,\r\n",
    "                                validation_data=(x_val,y_val_one_hot),\r\n",
    "                                use_multiprocessing=True,\r\n",
    "                                verbose=0,\r\n",
    "                                callbacks=[callback])\r\n",
    "    MLP_models.append(MLP)\r\n",
    "    \r\n",
    "    val_acc = training_history.history['val_accuracy']\r\n",
    "    MLP_val_accs.append(max(val_acc))\r\n",
    "    if MLP_plotting:\r\n",
    "        fig, (ax1, ax2) = plt.subplots(1, 2)\r\n",
    "        fig.suptitle('MLP Model - %d layers | %s activation'%(layer_num, act))\r\n",
    "        \r\n",
    "        loss = training_history.history['loss']\r\n",
    "        val_loss = training_history.history['val_loss']\r\n",
    "        acc = training_history.history['accuracy']\r\n",
    "        \r\n",
    "        epochs = range(1, len(loss) + 1)\r\n",
    "        ax1.plot(epochs, loss, 'y', label='Training loss')\r\n",
    "        ax1.plot(epochs, val_loss, 'r', label='Validation loss')\r\n",
    "        ax1.title.set_text('Training and validation loss')\r\n",
    "        ax1.set_xlabel('Epochs')\r\n",
    "        ax1.set_ylabel('Loss')\r\n",
    "        ax1.legend(loc='best')\r\n",
    "        \r\n",
    "        ax2.plot(epochs, acc, 'y', label='Training Accuracy')\r\n",
    "        ax2.plot(epochs, val_acc, 'r', label='Validation Accuracy')\r\n",
    "        ax2.title.set_text('Training and validation Accuracy')\r\n",
    "        ax2.set_xlabel('Epochs')\r\n",
    "        ax2.set_ylabel('Accuracy')\r\n",
    "        ax2.legend(loc='best')\r\n",
    " "
   ],
   "outputs": [],
   "metadata": {}
  },
  {
   "cell_type": "markdown",
   "source": [
    "Determine best MLP model (using validation set)"
   ],
   "metadata": {}
  },
  {
   "cell_type": "code",
   "execution_count": 40,
   "source": [
    "# Evaluate best model via validation accuracy\r\n",
    "best_MLP_idx = MLP_val_accs.index(max(MLP_val_accs))\r\n",
    "best_MLP = MLP_models[best_MLP_idx]\r\n",
    "model_type_best.append(best_MLP)\r\n",
    "best_MLP.summary()\r\n",
    "\r\n",
    "activation = best_MLP.layers[1].get_config()['activation']\r\n",
    "num_layers = len(best_MLP.layers)\r\n",
    "\r\n",
    "print('\\n\\tActivation: %s\\n\\tNumber of Layers: %d'%(activation, num_layers))\r\n",
    "\r\n",
    "# Evaluate on validation accuracy again and plot \r\n",
    "MLP_eval = best_MLP.evaluate(x=x_val, y=y_val_one_hot, use_multiprocessing=True, verbose=0)\r\n",
    "MLP_loss = MLP_eval[0]\r\n",
    "MLP_acc = MLP_eval[1]\r\n",
    "\r\n",
    "model_type_accs.append(MLP_acc)\r\n",
    "\r\n",
    "print('\\nTest Set evaluation:')\r\n",
    "print('\\tLoss: %f | Accuracy: %f'%(MLP_loss, MLP_acc))\r\n",
    "# Plot training history (train/validation loss and accuracy values throughout training):\r\n",
    "loss = training_history.history['loss']\r\n",
    "val_loss = training_history.history['val_loss']\r\n",
    "epochs = range(1, len(loss) + 1)\r\n",
    "plt.plot(epochs, loss, 'y', label='Training loss')\r\n",
    "plt.plot(epochs, val_loss, 'r', label='Validation loss')\r\n",
    "plt.title('Training and validation loss')\r\n",
    "plt.xlabel('Epochs')\r\n",
    "plt.ylabel('Loss')\r\n",
    "plt.legend()\r\n",
    "plt.show()\r\n",
    "\r\n",
    "acc = training_history.history['accuracy']\r\n",
    "val_acc = training_history.history['val_accuracy']\r\n",
    "\r\n",
    "plt.plot(epochs, acc, 'y', label='Training Accuracy')\r\n",
    "plt.plot(epochs, val_acc, 'r', label='Validation Accuracy')\r\n",
    "plt.title('Training and validation Accuracy')\r\n",
    "plt.xlabel('Epochs')\r\n",
    "plt.ylabel('Accuracy')\r\n",
    "plt.legend()\r\n",
    "plt.show()"
   ],
   "outputs": [
    {
     "output_type": "stream",
     "name": "stdout",
     "text": [
      "Model: \"sequential_65\"\n",
      "_________________________________________________________________\n",
      "Layer (type)                 Output Shape              Param #   \n",
      "=================================================================\n",
      "dense_263 (Dense)            (None, 32)                25120     \n",
      "_________________________________________________________________\n",
      "dense_264 (Dense)            (None, 32)                1056      \n",
      "_________________________________________________________________\n",
      "dense_265 (Dense)            (None, 32)                1056      \n",
      "_________________________________________________________________\n",
      "dense_266 (Dense)            (None, 32)                1056      \n",
      "_________________________________________________________________\n",
      "dense_267 (Dense)            (None, 32)                1056      \n",
      "_________________________________________________________________\n",
      "dense_268 (Dense)            (None, 32)                1056      \n",
      "_________________________________________________________________\n",
      "dense_269 (Dense)            (None, 32)                1056      \n",
      "_________________________________________________________________\n",
      "dense_270 (Dense)            (None, 32)                1056      \n",
      "_________________________________________________________________\n",
      "dense_271 (Dense)            (None, 32)                1056      \n",
      "_________________________________________________________________\n",
      "dense_272 (Dense)            (None, 32)                1056      \n",
      "_________________________________________________________________\n",
      "dense_273 (Dense)            (None, 10)                330       \n",
      "=================================================================\n",
      "Total params: 34,954\n",
      "Trainable params: 34,954\n",
      "Non-trainable params: 0\n",
      "_________________________________________________________________\n",
      "\n",
      "\tActivation: relu\n",
      "\tNumber of Layers: 11\n",
      "\n",
      "Test Set evaluation:\n",
      "\tLoss: 0.167825 | Accuracy: 0.955833\n"
     ]
    },
    {
     "output_type": "display_data",
     "data": {
      "image/png": "[encoded data removed]",
      "text/plain": [
       "<Figure size 432x288 with 1 Axes>"
      ]
     },
     "metadata": {
      "needs_background": "light"
     }
    },
    {
     "output_type": "display_data",
     "data": {
      "image/png": "[encoded data removed]",
      "text/plain": [
       "<Figure size 432x288 with 1 Axes>"
      ]
     },
     "metadata": {
      "needs_background": "light"
     }
    }
   ],
   "metadata": {}
  },
  {
   "cell_type": "code",
   "execution_count": null,
   "source": [],
   "outputs": [],
   "metadata": {}
  }
 ],
 "metadata": {
  "orig_nbformat": 4,
  "language_info": {
   "name": "python",
   "version": "3.8.10",
   "mimetype": "text/x-python",
   "codemirror_mode": {
    "name": "ipython",
    "version": 3
   },
   "pygments_lexer": "ipython3",
   "nbconvert_exporter": "python",
   "file_extension": ".py"
  },
  "kernelspec": {
   "name": "python3",
   "display_name": "Python 3.8.10 64-bit ('INF264': venv)"
  },
  "interpreter": {
   "hash": "7be7a0306104b9f816b1a7fc59a92a3edb25c33904fa3acf8ceea41b8684ace3"
  }
 },
 "nbformat": 4,
 "nbformat_minor": 2
}