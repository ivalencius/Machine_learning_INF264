{
 "cells": [
  {
   "cell_type": "markdown",
   "source": [
    "# Digit Recognizer\r\n",
    "Ilan Valencius"
   ],
   "metadata": {}
  },
  {
   "cell_type": "markdown",
   "source": [
    "## Load Data\r\n"
   ],
   "metadata": {}
  },
  {
   "cell_type": "code",
   "execution_count": 11,
   "source": [
    "from sklearn.model_selection import train_test_split, KFold, cross_val_score\r\n",
    "from sklearn.metrics import accuracy_score\r\n",
    "import numpy as np\r\n",
    "import keras\r\n",
    "import matplotlib.pyplot as plt\r\n",
    "from math import log, exp\r\n",
    "import itertools\r\n",
    "import tensorflow as tf\r\n",
    "from tensorflow.keras import Sequential, layers\r\n",
    "from tensorflow.keras.losses import categorical_crossentropy\r\n",
    "from tensorflow.keras.utils import to_categorical"
   ],
   "outputs": [],
   "metadata": {}
  },
  {
   "cell_type": "code",
   "execution_count": 38,
   "source": [
    "# Load CSV data\r\n",
    "x_data = np.genfromtxt('handwritten_digits_images.csv', delimiter=',')\r\n",
    "y_data = np.genfromtxt('handwritten_digits_labels.csv', delimiter=',')\\\r\n"
   ],
   "outputs": [
    {
     "output_type": "execute_result",
     "data": {
      "text/plain": [
       "<matplotlib.image.AxesImage at 0x15d87940790>"
      ]
     },
     "metadata": {},
     "execution_count": 38
    },
    {
     "output_type": "display_data",
     "data": {
      "image/png": "[encoded data removed]",
      "text/plain": [
       "<Figure size 432x288 with 1 Axes>"
      ]
     },
     "metadata": {
      "needs_background": "light"
     }
    }
   ],
   "metadata": {}
  },
  {
   "cell_type": "code",
   "execution_count": 43,
   "source": [
    "# Reshape images into 28 x 28 images\r\n",
    "# x_data = x_data.reshape(x_data.shape[0], 28, 28)\r\n",
    "\r\n",
    "# Plot image for quick sanity check\r\n",
    "plt.imshow(x_data.reshape(x_data.shape[0], 28, 28)[60000], cmap='Greys')"
   ],
   "outputs": [
    {
     "output_type": "execute_result",
     "data": {
      "text/plain": [
       "<matplotlib.image.AxesImage at 0x15ea0798550>"
      ]
     },
     "metadata": {},
     "execution_count": 43
    },
    {
     "output_type": "display_data",
     "data": {
      "image/png": "[encoded data removed]",
      "text/plain": [
       "<Figure size 432x288 with 1 Axes>"
      ]
     },
     "metadata": {
      "needs_background": "light"
     }
    }
   ],
   "metadata": {}
  },
  {
   "cell_type": "markdown",
   "source": [
    "## Create train, validation, test sets"
   ],
   "metadata": {}
  },
  {
   "cell_type": "code",
   "execution_count": 44,
   "source": [
    "seed = 120\r\n",
    "\r\n",
    "x_train_val, x_test, y_train_val, y_test = train_test_split(x_data,\r\n",
    "                                                            y_data,\r\n",
    "                                                            test_size=0.2,\r\n",
    "                                                            random_state=seed,\r\n",
    "                                                            shuffle=True)\r\n",
    "\r\n",
    "x_train, x_val, y_train, y_val = train_test_split(x_train_val,\r\n",
    "                                                  y_train_val,\r\n",
    "                                                  test_size=0.3,\r\n",
    "                                                  random_state=seed, \r\n",
    "                                                  shuffle=True)\r\n",
    "\r\n",
    "# Variables for model parameters\r\n",
    "y_classes = len(np.unique(y_data))"
   ],
   "outputs": [],
   "metadata": {}
  },
  {
   "cell_type": "markdown",
   "source": [
    "## Model 1 - MLP"
   ],
   "metadata": {}
  },
  {
   "cell_type": "code",
   "execution_count": 49,
   "source": [
    "def construct_MLP(input_shape, num_layers=10, activation='relu'):\r\n",
    "    # Create model\r\n",
    "    MLP = Sequential()\r\n",
    "    MLP.add(layers.InputLayer(input_shape=input_shape))\r\n",
    "    # Intermediate Layers\r\n",
    "    for i in range(num_layers):\r\n",
    "        MLP.add(layers.Dense(32, activation=activation))\r\n",
    "    # Output layer (fully-connected):\r\n",
    "    MLP.add(layers.Dense(y_classes, activation='softmax'))\r\n",
    "    # Compile Model\r\n",
    "    MLP.compile(optimizer='adam',\r\n",
    "                loss=categorical_crossentropy,\r\n",
    "                metrics=['accuracy'])\r\n",
    "    return MLP\r\n",
    "            "
   ],
   "outputs": [],
   "metadata": {}
  },
  {
   "cell_type": "markdown",
   "source": [
    "Test MLP Model"
   ],
   "metadata": {}
  },
  {
   "cell_type": "code",
   "execution_count": 51,
   "source": [
    "y_train_one_hot = to_categorical(y_train)\r\n",
    "y_val_one_hot = to_categorical(y_val)\r\n",
    "\r\n",
    "batch_sz = 16\r\n",
    "MLP_test = construct_MLP(input_shape=784 ,num_layers=5)\r\n",
    "MLP_test.summary()\r\n",
    "\r\n",
    "training_history = MLP_test.fit(x=x_train,y=y_train_one_hot,\r\n",
    "                                batch_size=16,\r\n",
    "                                epochs=2,\r\n",
    "                                validation_data=(x_val,y_val_one_hot),\r\n",
    "                                use_multiprocessing=True,)\r\n",
    "# USE EARLUUY CHECKING"
   ],
   "outputs": [
    {
     "output_type": "stream",
     "name": "stdout",
     "text": [
      "Model: \"sequential_13\"\n",
      "_________________________________________________________________\n",
      "Layer (type)                 Output Shape              Param #   \n",
      "=================================================================\n",
      "dense_101 (Dense)            (None, 32)                25120     \n",
      "_________________________________________________________________\n",
      "dense_102 (Dense)            (None, 32)                1056      \n",
      "_________________________________________________________________\n",
      "dense_103 (Dense)            (None, 32)                1056      \n",
      "_________________________________________________________________\n",
      "dense_104 (Dense)            (None, 32)                1056      \n",
      "_________________________________________________________________\n",
      "dense_105 (Dense)            (None, 32)                1056      \n",
      "_________________________________________________________________\n",
      "dense_106 (Dense)            (None, 32)                1056      \n",
      "_________________________________________________________________\n",
      "dense_107 (Dense)            (None, 32)                1056      \n",
      "_________________________________________________________________\n",
      "dense_108 (Dense)            (None, 32)                1056      \n",
      "_________________________________________________________________\n",
      "dense_109 (Dense)            (None, 32)                1056      \n",
      "_________________________________________________________________\n",
      "dense_110 (Dense)            (None, 32)                1056      \n",
      "_________________________________________________________________\n",
      "dense_111 (Dense)            (None, 10)                330       \n",
      "=================================================================\n",
      "Total params: 34,954\n",
      "Trainable params: 34,954\n",
      "Non-trainable params: 0\n",
      "_________________________________________________________________\n",
      "Epoch 1/2\n",
      "2450/2450 [==============================] - 13s 4ms/step - loss: 0.5734 - accuracy: 0.8234 - val_loss: 0.3298 - val_accuracy: 0.9076\n",
      "Epoch 2/2\n",
      "2450/2450 [==============================] - 10s 4ms/step - loss: 0.3001 - accuracy: 0.9182 - val_loss: 0.2804 - val_accuracy: 0.9247\n"
     ]
    }
   ],
   "metadata": {}
  }
 ],
 "metadata": {
  "orig_nbformat": 4,
  "language_info": {
   "name": "python",
   "version": "3.8.10",
   "mimetype": "text/x-python",
   "codemirror_mode": {
    "name": "ipython",
    "version": 3
   },
   "pygments_lexer": "ipython3",
   "nbconvert_exporter": "python",
   "file_extension": ".py"
  },
  "kernelspec": {
   "name": "python3",
   "display_name": "Python 3.8.10 64-bit ('INF264': venv)"
  },
  "interpreter": {
   "hash": "7be7a0306104b9f816b1a7fc59a92a3edb25c33904fa3acf8ceea41b8684ace3"
  }
 },
 "nbformat": 4,
 "nbformat_minor": 2
}