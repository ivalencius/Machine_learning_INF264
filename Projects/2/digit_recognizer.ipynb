{
 "cells": [
  {
   "cell_type": "markdown",
   "metadata": {},
   "source": [
    "# Digit Recognizer\n",
    "Ilan Valencius"
   ]
  },
  {
   "cell_type": "code",
   "execution_count": 3,
   "metadata": {},
   "outputs": [],
   "source": [
    "from sklearn.model_selection import train_test_split\n",
    "from sklearn.metrics import accuracy_score\n",
    "import numpy as np\n",
    "import matplotlib.pyplot as plt\n",
    "import itertools\n",
    "from sklearn import svm\n",
    "from sklearn.preprocessing import scale\n",
    "from tensorflow.keras.callbacks import EarlyStopping\n",
    "from tensorflow.keras import Sequential, layers\n",
    "from tensorflow.keras.losses import categorical_crossentropy\n",
    "from tensorflow.keras.utils import to_categorical"
   ]
  },
  {
   "cell_type": "markdown",
   "metadata": {},
   "source": [
    "## Code Parameters"
   ]
  },
  {
   "cell_type": "code",
   "execution_count": 15,
   "metadata": {},
   "outputs": [],
   "source": [
    "# Set to true to only train one type of each model for easy checking\n",
    "easy_params = True\n",
    "# Control keras training parameters (speed and code clarity)\n",
    "verbose = 2 # Set to 0 to hide\n",
    "batch_sz = 256\n",
    "max_epochs = 20 # Lower to increase speed when quickly checking models"
   ]
  },
  {
   "cell_type": "markdown",
   "metadata": {},
   "source": [
    "## Load Data\n"
   ]
  },
  {
   "cell_type": "code",
   "execution_count": 4,
   "metadata": {},
   "outputs": [
    {
     "data": {
      "text/plain": [
       "<matplotlib.image.AxesImage at 0x20b2eed3bb0>"
      ]
     },
     "execution_count": 4,
     "metadata": {},
     "output_type": "execute_result"
    },
    {
     "data": {
      "image/png": "[encoded data removed]",
      "text/plain": [
       "<Figure size 432x288 with 1 Axes>"
      ]
     },
     "metadata": {
      "needs_background": "light"
     },
     "output_type": "display_data"
    }
   ],
   "source": [
    "# Load CSV data\n",
    "x_data = np.genfromtxt('handwritten_digits_images.csv', delimiter=',')\n",
    "y_data = np.genfromtxt('handwritten_digits_labels.csv', delimiter=',')\n",
    "\n",
    "# Plot image for quick sanity check\n",
    "plt.imshow(x_data.reshape(x_data.shape[0], 28, 28)[60000], cmap='Greys')"
   ]
  },
  {
   "cell_type": "markdown",
   "metadata": {},
   "source": [
    "Create train, validation, test sets"
   ]
  },
  {
   "cell_type": "code",
   "execution_count": 6,
   "metadata": {},
   "outputs": [],
   "source": [
    "seed = 120\n",
    "\n",
    "x_train_val, x_test, y_train_val, y_test = train_test_split(x_data,\n",
    "                                                            y_data,\n",
    "                                                            test_size=0.2,\n",
    "                                                            random_state=seed,\n",
    "                                                            shuffle=True)\n",
    "\n",
    "x_train, x_val, y_train, y_val = train_test_split(x_train_val,\n",
    "                                                  y_train_val,\n",
    "                                                  test_size=0.3,\n",
    "                                                  random_state=seed, \n",
    "                                                  shuffle=True)\n",
    "\n",
    "# Variables for model parameters\n",
    "y_classes = len(np.unique(y_data))"
   ]
  },
  {
   "cell_type": "markdown",
   "metadata": {},
   "source": [
    "Lists to store the best model from each type and its respective validation accuracy"
   ]
  },
  {
   "cell_type": "code",
   "execution_count": 7,
   "metadata": {},
   "outputs": [],
   "source": [
    "# To compare models\n",
    "model_type_accs = []\n",
    "model_type_best = []\n",
    "\n",
    "# For CNN and MLP\n",
    "y_train_one_hot = to_categorical(y_train)\n",
    "y_val_one_hot = to_categorical(y_val)\n",
    "y_test_one_hot = to_categorical(y_test)\n",
    "\n",
    "# For MLP \n",
    "x_train_scale = scale(x_train)\n",
    "x_val_scale = scale(x_val)\n",
    "x_test_scale = scale(x_test)\n",
    "\n",
    "# For CNN\n",
    "x_train_img = x_train_scale.reshape(x_train_scale.shape[0], 28, 28, 1)\n",
    "x_val_img = x_val_scale.reshape(x_val_scale.shape[0], 28, 28, 1)\n",
    "x_test_img = x_test_scale.reshape(x_test_scale.shape[0], 28, 28, 1)"
   ]
  },
  {
   "cell_type": "markdown",
   "metadata": {},
   "source": [
    "## Model 1 - MLP"
   ]
  },
  {
   "cell_type": "code",
   "execution_count": 8,
   "metadata": {},
   "outputs": [],
   "source": [
    "def construct_MLP(input_shape, add_layer=False, activation='relu'):\n",
    "    # Create model\n",
    "    MLP = Sequential()\n",
    "    MLP.add(layers.InputLayer(input_shape=input_shape))\n",
    "    # Intermediate Layers\n",
    "    if add_layer:\n",
    "        MLP.add(layers.Dense(32, activation=activation))\n",
    "    # Output layer (fully-connected):\n",
    "    MLP.add(layers.Dense(y_classes, activation='softmax'))\n",
    "    # Compile Model\n",
    "    MLP.compile(optimizer='adam',\n",
    "                loss=categorical_crossentropy,\n",
    "                metrics=['accuracy'])\n",
    "    return MLP\n",
    "            "
   ]
  },
  {
   "cell_type": "markdown",
   "metadata": {},
   "source": [
    "Test MLP Model"
   ]
  },
  {
   "cell_type": "code",
   "execution_count": 16,
   "metadata": {},
   "outputs": [
    {
     "name": "stdout",
     "output_type": "stream",
     "text": [
      "Epoch 1/20\n",
      "154/154 - 1s - loss: 0.6732 - accuracy: 0.8036 - val_loss: 0.3112 - val_accuracy: 0.9118\n",
      "Epoch 2/20\n",
      "154/154 - 0s - loss: 0.2523 - accuracy: 0.9273 - val_loss: 0.2349 - val_accuracy: 0.9329\n",
      "Epoch 3/20\n",
      "154/154 - 0s - loss: 0.1895 - accuracy: 0.9450 - val_loss: 0.2086 - val_accuracy: 0.9401\n",
      "Epoch 4/20\n",
      "154/154 - 0s - loss: 0.1572 - accuracy: 0.9552 - val_loss: 0.1933 - val_accuracy: 0.9446\n",
      "Epoch 5/20\n",
      "154/154 - 0s - loss: 0.1355 - accuracy: 0.9613 - val_loss: 0.1812 - val_accuracy: 0.9495\n",
      "Epoch 6/20\n",
      "154/154 - 0s - loss: 0.1200 - accuracy: 0.9657 - val_loss: 0.1740 - val_accuracy: 0.9520\n",
      "Epoch 7/20\n",
      "154/154 - 0s - loss: 0.1065 - accuracy: 0.9695 - val_loss: 0.1674 - val_accuracy: 0.9538\n",
      "Epoch 8/20\n",
      "154/154 - 0s - loss: 0.0953 - accuracy: 0.9729 - val_loss: 0.1636 - val_accuracy: 0.9550\n",
      "Epoch 9/20\n",
      "154/154 - 0s - loss: 0.0872 - accuracy: 0.9754 - val_loss: 0.1656 - val_accuracy: 0.9549\n",
      "Epoch 10/20\n",
      "154/154 - 0s - loss: 0.0808 - accuracy: 0.9772 - val_loss: 0.1614 - val_accuracy: 0.9556\n",
      "Epoch 11/20\n",
      "154/154 - 0s - loss: 0.0735 - accuracy: 0.9793 - val_loss: 0.1598 - val_accuracy: 0.9564\n",
      "Epoch 12/20\n",
      "154/154 - 0s - loss: 0.0673 - accuracy: 0.9820 - val_loss: 0.1606 - val_accuracy: 0.9562\n",
      "Epoch 13/20\n",
      "154/154 - 0s - loss: 0.0624 - accuracy: 0.9830 - val_loss: 0.1599 - val_accuracy: 0.9548\n",
      "Epoch 14/20\n",
      "154/154 - 0s - loss: 0.0589 - accuracy: 0.9844 - val_loss: 0.1577 - val_accuracy: 0.9579\n",
      "Epoch 15/20\n",
      "154/154 - 0s - loss: 0.0537 - accuracy: 0.9859 - val_loss: 0.1589 - val_accuracy: 0.9585\n",
      "Epoch 16/20\n",
      "154/154 - 0s - loss: 0.0500 - accuracy: 0.9872 - val_loss: 0.1615 - val_accuracy: 0.9582\n",
      "Epoch 17/20\n",
      "154/154 - 0s - loss: 0.0473 - accuracy: 0.9873 - val_loss: 0.1622 - val_accuracy: 0.9572\n"
     ]
    },
    {
     "data": {
      "image/png": "[encoded data removed]",
      "text/plain": [
       "<Figure size 432x288 with 2 Axes>"
      ]
     },
     "metadata": {
      "needs_background": "light"
     },
     "output_type": "display_data"
    }
   ],
   "source": [
    "# Set up hyperparameters to test\n",
    "add_layers = [True, False]\n",
    "activation = ['relu', 'sigmoid', 'softmax', 'tanh']\n",
    "MLP_params = list(itertools.product(add_layers, activation))\n",
    "\n",
    "if easy_params:\n",
    "    MLP_params = [(True, 'relu')]\n",
    "\n",
    "MLP_val_accs = []\n",
    "MLP_models = []\n",
    "\n",
    "# If you want Val_loss and Val_accuracy plots \n",
    "MLP_plotting = True\n",
    "\n",
    "# Iterate through and test every model\n",
    "for add_layer, act in MLP_params:\n",
    "    # print(tf.config.list_physical_devices())\n",
    "    MLP = construct_MLP(input_shape=784,add_layer=add_layer, activation=act)\n",
    "    # MLP_test.summary()\n",
    "    # Early callback stopping to avoid overfitting\n",
    "    callback = EarlyStopping(monitor='val_loss',\n",
    "                             patience=3,\n",
    "                             restore_best_weights=True)\n",
    "    \n",
    "    training_history = MLP.fit(x=x_train_scale,y=y_train_one_hot,\n",
    "                                batch_size=batch_sz,\n",
    "                                epochs=max_epochs,\n",
    "                                validation_data=(x_val_scale,y_val_one_hot),\n",
    "                                use_multiprocessing=True,\n",
    "                                verbose=verbose,\n",
    "                                callbacks=[callback])\n",
    "    MLP_models.append(MLP)\n",
    "    \n",
    "    # val_acc = training_history.history['val_accuracy']\n",
    "    MLP_eval = MLP.evaluate(x=x_val_scale, y=y_val_one_hot, use_multiprocessing=True, verbose=0)\n",
    "    val_acc = MLP_eval[1]\n",
    "    MLP_val_accs.append(val_acc)\n",
    "    \n",
    "    if MLP_plotting:\n",
    "        fig, (ax1, ax2) = plt.subplots(1, 2)\n",
    "        fig.suptitle('MLP Model - additional layer ->  %s | activation -> %s'%(add_layer, act))\n",
    "        \n",
    "        loss = training_history.history['loss']\n",
    "        val_loss = training_history.history['val_loss']\n",
    "        acc = training_history.history['accuracy']\n",
    "        val_acc = training_history.history['val_accuracy']\n",
    "        \n",
    "        epochs = range(1, len(loss) + 1)\n",
    "        ax1.plot(epochs, loss, 'y', label='Training loss')\n",
    "        ax1.plot(epochs, val_loss, 'r', label='Validation loss')\n",
    "        ax1.title.set_text('Training and validation loss')\n",
    "        ax1.set_xlabel('Epochs')\n",
    "        ax1.set_ylabel('Loss')\n",
    "        ax1.legend(loc='best')\n",
    "        \n",
    "        ax2.plot(epochs, acc, 'y', label='Training Accuracy')\n",
    "        ax2.plot(epochs, val_acc, 'r', label='Validation Accuracy')\n",
    "        ax2.title.set_text('Training and validation Accuracy')\n",
    "        ax2.set_xlabel('Epochs')\n",
    "        ax2.set_ylabel('Accuracy')\n",
    "        ax2.legend(loc='best')\n",
    " "
   ]
  },
  {
   "cell_type": "markdown",
   "metadata": {},
   "source": [
    "Determine best MLP model (using validation set)"
   ]
  },
  {
   "cell_type": "code",
   "execution_count": 12,
   "metadata": {},
   "outputs": [
    {
     "name": "stdout",
     "output_type": "stream",
     "text": [
      "Model: \"sequential_2\"\n",
      "_________________________________________________________________\n",
      "Layer (type)                 Output Shape              Param #   \n",
      "=================================================================\n",
      "dense_4 (Dense)              (None, 32)                25120     \n",
      "_________________________________________________________________\n",
      "dense_5 (Dense)              (None, 10)                330       \n",
      "=================================================================\n",
      "Total params: 25,450\n",
      "Trainable params: 25,450\n",
      "Non-trainable params: 0\n",
      "_________________________________________________________________\n",
      "\n",
      "\tActivation: softmax\n",
      "\tNumber of Layers: 2\n",
      "\n",
      "Validation Set Evaluation:\n",
      "\tLoss: 0.155154 | Accuracy: 0.958095\n"
     ]
    },
    {
     "data": {
      "image/png": "[encoded data removed]",
      "text/plain": [
       "<Figure size 432x288 with 1 Axes>"
      ]
     },
     "metadata": {
      "needs_background": "light"
     },
     "output_type": "display_data"
    },
    {
     "data": {
      "image/png": "[encoded data removed]",
      "text/plain": [
       "<Figure size 432x288 with 1 Axes>"
      ]
     },
     "metadata": {
      "needs_background": "light"
     },
     "output_type": "display_data"
    }
   ],
   "source": [
    "# Evaluate best model via validation accuracy\n",
    "best_MLP_idx = MLP_val_accs.index(max(MLP_val_accs))\n",
    "best_MLP = MLP_models[best_MLP_idx]\n",
    "model_type_best.append(best_MLP)\n",
    "best_MLP.summary()\n",
    "\n",
    "activation = best_MLP.layers[1].get_config()['activation']\n",
    "num_layers = len(best_MLP.layers)\n",
    "\n",
    "print('\\n\\tActivation: %s\\n\\tNumber of Layers: %d'%(activation, num_layers))\n",
    "\n",
    "# Evaluate on validation accuracy again and plot \n",
    "MLP_eval = best_MLP.evaluate(x=x_val_scale, y=y_val_one_hot, use_multiprocessing=True, verbose=0)\n",
    "MLP_loss = MLP_eval[0]\n",
    "MLP_acc = MLP_eval[1]\n",
    "\n",
    "model_type_accs.append(MLP_acc)\n",
    "\n",
    "print('\\nValidation Set Evaluation:')\n",
    "print('\\tLoss: %f | Accuracy: %f'%(MLP_loss, MLP_acc))\n",
    "# Plot training history (train/validation loss and accuracy values throughout training):\n",
    "loss = training_history.history['loss']\n",
    "val_loss = training_history.history['val_loss']\n",
    "epochs = range(1, len(loss) + 1)\n",
    "plt.plot(epochs, loss, 'y', label='Training loss')\n",
    "plt.plot(epochs, val_loss, 'r', label='Validation loss')\n",
    "plt.title('Training and validation loss')\n",
    "plt.xlabel('Epochs')\n",
    "plt.ylabel('Loss')\n",
    "plt.legend()\n",
    "plt.show()\n",
    "\n",
    "acc = training_history.history['accuracy']\n",
    "val_acc = training_history.history['val_accuracy']\n",
    "\n",
    "plt.plot(epochs, acc, 'y', label='Training Accuracy')\n",
    "plt.plot(epochs, val_acc, 'r', label='Validation Accuracy')\n",
    "plt.title('Training and validation Accuracy')\n",
    "plt.xlabel('Epochs')\n",
    "plt.ylabel('Accuracy')\n",
    "plt.legend()\n",
    "plt.show()"
   ]
  },
  {
   "cell_type": "markdown",
   "metadata": {},
   "source": [
    "## Model 2 - CNN"
   ]
  },
  {
   "cell_type": "code",
   "execution_count": 13,
   "metadata": {},
   "outputs": [],
   "source": [
    "def construct_CNN(input_shape, additional_layer=False, activation='relu'):\n",
    "    # Create model\n",
    "    CNN = Sequential()\n",
    "    # Intermediate Layers\n",
    "    CNN.add(layers.Conv2D(28, (3, 3), activation=activation, input_shape=input_shape))\n",
    "    CNN.add(layers.MaxPooling2D((2, 2)))\n",
    "    CNN.add(layers.Conv2D(56, (3, 3), activation=activation))\n",
    "    if additional_layer:\n",
    "        CNN.add(layers.MaxPooling2D((2, 2)))\n",
    "        CNN.add(layers.Conv2D(56, (3, 3), activation=activation))\n",
    "    # Output layer (fully-connected):\n",
    "    CNN.add(layers.Flatten())\n",
    "    CNN.add(layers.Dense(y_classes, activation='softmax'))\n",
    "    # Compile Model\n",
    "    CNN.compile(optimizer='adam',\n",
    "                loss=categorical_crossentropy,\n",
    "                metrics=['accuracy'])\n",
    "    return CNN"
   ]
  },
  {
   "cell_type": "markdown",
   "metadata": {},
   "source": [
    "Test CNN Model"
   ]
  },
  {
   "cell_type": "code",
   "execution_count": 14,
   "metadata": {},
   "outputs": [
    {
     "name": "stdout",
     "output_type": "stream",
     "text": [
      "Epoch 1/20\n",
      "154/154 [==============================] - 14s 90ms/step - loss: 0.4622 - accuracy: 0.8720 - val_loss: 0.1260 - val_accuracy: 0.9614\n",
      "Epoch 2/20\n",
      "154/154 [==============================] - 14s 94ms/step - loss: 0.0966 - accuracy: 0.9721 - val_loss: 0.0768 - val_accuracy: 0.9754\n",
      "Epoch 3/20\n",
      "154/154 [==============================] - 14s 93ms/step - loss: 0.0637 - accuracy: 0.9804 - val_loss: 0.0619 - val_accuracy: 0.9799\n",
      "Epoch 4/20\n",
      "154/154 [==============================] - 14s 88ms/step - loss: 0.0502 - accuracy: 0.9844 - val_loss: 0.0507 - val_accuracy: 0.9832\n",
      "Epoch 5/20\n",
      "154/154 [==============================] - 14s 91ms/step - loss: 0.0411 - accuracy: 0.9871 - val_loss: 0.0506 - val_accuracy: 0.9843\n",
      "Epoch 6/20\n",
      "154/154 [==============================] - 13s 86ms/step - loss: 0.0324 - accuracy: 0.9903 - val_loss: 0.0436 - val_accuracy: 0.9855\n",
      "Epoch 7/20\n",
      "154/154 [==============================] - 15s 96ms/step - loss: 0.0257 - accuracy: 0.9921 - val_loss: 0.0394 - val_accuracy: 0.9873\n",
      "Epoch 8/20\n",
      "154/154 [==============================] - 15s 94ms/step - loss: 0.0222 - accuracy: 0.9929 - val_loss: 0.0409 - val_accuracy: 0.9870\n",
      "Epoch 9/20\n",
      "154/154 [==============================] - 15s 97ms/step - loss: 0.0188 - accuracy: 0.9940 - val_loss: 0.0382 - val_accuracy: 0.9876\n",
      "Epoch 10/20\n",
      "154/154 [==============================] - 13s 87ms/step - loss: 0.0184 - accuracy: 0.9945 - val_loss: 0.0388 - val_accuracy: 0.9882\n",
      "Epoch 11/20\n",
      "154/154 [==============================] - 13s 85ms/step - loss: 0.0128 - accuracy: 0.9957 - val_loss: 0.0384 - val_accuracy: 0.9880\n",
      "Epoch 12/20\n",
      "154/154 [==============================] - 13s 86ms/step - loss: 0.0120 - accuracy: 0.9964 - val_loss: 0.0372 - val_accuracy: 0.9889\n",
      "Epoch 13/20\n",
      "154/154 [==============================] - 14s 88ms/step - loss: 0.0096 - accuracy: 0.9970 - val_loss: 0.0413 - val_accuracy: 0.9870\n",
      "Epoch 14/20\n",
      "154/154 [==============================] - 13s 86ms/step - loss: 0.0101 - accuracy: 0.9971 - val_loss: 0.0385 - val_accuracy: 0.9897\n",
      "Epoch 15/20\n",
      "154/154 [==============================] - 13s 85ms/step - loss: 0.0076 - accuracy: 0.9978 - val_loss: 0.0500 - val_accuracy: 0.9865\n"
     ]
    },
    {
     "data": {
      "image/png": "[encoded data removed]",
      "text/plain": [
       "<Figure size 432x288 with 2 Axes>"
      ]
     },
     "metadata": {
      "needs_background": "light"
     },
     "output_type": "display_data"
    }
   ],
   "source": [
    "# Set up hyperparameters to test\n",
    "add_layers = [False, True]\n",
    "activation = ['relu', 'sigmoid', 'softmax', 'tanh']\n",
    "CNN_params = list(itertools.product(add_layers, activation))\n",
    "\n",
    "if easy_params:\n",
    "    CNN_params = [(True, 'relu')]\n",
    "\n",
    "CNN_val_accs = []\n",
    "CNN_models = []\n",
    "# If you want Val_loss and Val_accuracy plots \n",
    "CNN_plotting = True\n",
    "\n",
    "# Iterate through and test every model\n",
    "for add_layer, act in CNN_params:\n",
    "    CNN = construct_CNN(input_shape=(28, 28, 1) ,additional_layer=add_layer, activation=act)\n",
    "    # CNN.summary()\n",
    "    # Early callback stopping to avoid overfitting\n",
    "    callback = EarlyStopping(monitor='val_loss',\n",
    "                             patience=3,\n",
    "                             restore_best_weights=True)\n",
    "    \n",
    "    training_history = CNN.fit(x=x_train_img,y=y_train_one_hot,\n",
    "                                batch_size=batch_sz,\n",
    "                                epochs=max_epochs,\n",
    "                                validation_data=(x_val_img,y_val_one_hot),\n",
    "                                use_multiprocessing=True,\n",
    "                                verbose=verbose,\n",
    "                                callbacks=[callback])\n",
    "    CNN_models.append(CNN)\n",
    "    \n",
    "    # val_acc = training_history.history['val_accuracy']\n",
    "    CNN_eval = CNN.evaluate(x=x_val_img, y=y_val_one_hot, use_multiprocessing=True, verbose=0)\n",
    "    val_acc = CNN_eval[1]\n",
    "    CNN_val_accs.append(val_acc)\n",
    "    if CNN_plotting:\n",
    "        fig, (ax1, ax2) = plt.subplots(1, 2)\n",
    "        fig.suptitle('CNN Model - additional layer -> %s | activation -> %s'%(add_layer, act))\n",
    "        \n",
    "        loss = training_history.history['loss']\n",
    "        val_loss = training_history.history['val_loss']\n",
    "        acc = training_history.history['accuracy']\n",
    "        val_acc = training_history.history['val_accuracy']\n",
    "        \n",
    "        epochs = range(1, len(loss) + 1)\n",
    "        ax1.plot(epochs, loss, 'y', label='Training loss')\n",
    "        ax1.plot(epochs, val_loss, 'r', label='Validation loss')\n",
    "        ax1.title.set_text('Training and validation loss')\n",
    "        ax1.set_xlabel('Epochs')\n",
    "        ax1.set_ylabel('Loss')\n",
    "        ax1.legend(loc='best')\n",
    "        \n",
    "        ax2.plot(epochs, acc, 'y', label='Training Accuracy')\n",
    "        ax2.plot(epochs, val_acc, 'r', label='Validation Accuracy')\n",
    "        ax2.title.set_text('Training and validation Accuracy')\n",
    "        ax2.set_xlabel('Epochs')\n",
    "        ax2.set_ylabel('Accuracy')\n",
    "        ax2.legend(loc='best')"
   ]
  },
  {
   "cell_type": "markdown",
   "metadata": {},
   "source": [
    "Determine best CNN Model (using validation set)"
   ]
  },
  {
   "cell_type": "code",
   "execution_count": 17,
   "metadata": {},
   "outputs": [
    {
     "name": "stdout",
     "output_type": "stream",
     "text": [
      "Model: \"sequential_3\"\n",
      "_________________________________________________________________\n",
      "Layer (type)                 Output Shape              Param #   \n",
      "=================================================================\n",
      "conv2d (Conv2D)              (None, 26, 26, 28)        280       \n",
      "_________________________________________________________________\n",
      "max_pooling2d (MaxPooling2D) (None, 13, 13, 28)        0         \n",
      "_________________________________________________________________\n",
      "conv2d_1 (Conv2D)            (None, 11, 11, 56)        14168     \n",
      "_________________________________________________________________\n",
      "max_pooling2d_1 (MaxPooling2 (None, 5, 5, 56)          0         \n",
      "_________________________________________________________________\n",
      "conv2d_2 (Conv2D)            (None, 3, 3, 56)          28280     \n",
      "_________________________________________________________________\n",
      "flatten (Flatten)            (None, 504)               0         \n",
      "_________________________________________________________________\n",
      "dense_6 (Dense)              (None, 10)                5050      \n",
      "=================================================================\n",
      "Total params: 47,778\n",
      "Trainable params: 47,778\n",
      "Non-trainable params: 0\n",
      "_________________________________________________________________\n",
      "\n",
      "\tActivation: relu\n",
      "\tNumber of Layers: 7\n"
     ]
    },
    {
     "ename": "ValueError",
     "evalue": "Found array with dim 4. the scale function expected <= 2.",
     "output_type": "error",
     "traceback": [
      "\u001b[1;31m---------------------------------------------------------------------------\u001b[0m",
      "\u001b[1;31mValueError\u001b[0m                                Traceback (most recent call last)",
      "\u001b[1;32m~\\AppData\\Local\\Temp/ipykernel_13960/3205653456.py\u001b[0m in \u001b[0;36m<module>\u001b[1;34m\u001b[0m\n\u001b[0;32m     12\u001b[0m \u001b[1;31m# DO I NEED TO DO THIS???\u001b[0m\u001b[1;33m\u001b[0m\u001b[1;33m\u001b[0m\u001b[1;33m\u001b[0m\u001b[0m\n\u001b[0;32m     13\u001b[0m \u001b[1;31m# Evaluate on validation accuracy again and plot\u001b[0m\u001b[1;33m\u001b[0m\u001b[1;33m\u001b[0m\u001b[1;33m\u001b[0m\u001b[0m\n\u001b[1;32m---> 14\u001b[1;33m \u001b[0mCNN_eval\u001b[0m \u001b[1;33m=\u001b[0m \u001b[0mbest_CNN\u001b[0m\u001b[1;33m.\u001b[0m\u001b[0mevaluate\u001b[0m\u001b[1;33m(\u001b[0m\u001b[0mx\u001b[0m\u001b[1;33m=\u001b[0m\u001b[0mscale\u001b[0m\u001b[1;33m(\u001b[0m\u001b[0mx_val_img\u001b[0m\u001b[1;33m)\u001b[0m\u001b[1;33m,\u001b[0m \u001b[0my\u001b[0m\u001b[1;33m=\u001b[0m\u001b[0my_val_one_hot\u001b[0m\u001b[1;33m,\u001b[0m \u001b[0muse_multiprocessing\u001b[0m\u001b[1;33m=\u001b[0m\u001b[1;32mTrue\u001b[0m\u001b[1;33m,\u001b[0m \u001b[0mverbose\u001b[0m\u001b[1;33m=\u001b[0m\u001b[1;36m0\u001b[0m\u001b[1;33m)\u001b[0m\u001b[1;33m\u001b[0m\u001b[1;33m\u001b[0m\u001b[0m\n\u001b[0m\u001b[0;32m     15\u001b[0m \u001b[0mCNN_loss\u001b[0m \u001b[1;33m=\u001b[0m \u001b[0mCNN_eval\u001b[0m\u001b[1;33m[\u001b[0m\u001b[1;36m0\u001b[0m\u001b[1;33m]\u001b[0m\u001b[1;33m\u001b[0m\u001b[1;33m\u001b[0m\u001b[0m\n\u001b[0;32m     16\u001b[0m \u001b[0mCNN_acc\u001b[0m \u001b[1;33m=\u001b[0m \u001b[0mCNN_eval\u001b[0m\u001b[1;33m[\u001b[0m\u001b[1;36m1\u001b[0m\u001b[1;33m]\u001b[0m\u001b[1;33m\u001b[0m\u001b[1;33m\u001b[0m\u001b[0m\n",
      "\u001b[1;32m~\\AppData\\Local\\Packages\\PythonSoftwareFoundation.Python.3.8_qbz5n2kfra8p0\\LocalCache\\local-packages\\Python38\\site-packages\\sklearn\\utils\\validation.py\u001b[0m in \u001b[0;36minner_f\u001b[1;34m(*args, **kwargs)\u001b[0m\n\u001b[0;32m     61\u001b[0m             \u001b[0mextra_args\u001b[0m \u001b[1;33m=\u001b[0m \u001b[0mlen\u001b[0m\u001b[1;33m(\u001b[0m\u001b[0margs\u001b[0m\u001b[1;33m)\u001b[0m \u001b[1;33m-\u001b[0m \u001b[0mlen\u001b[0m\u001b[1;33m(\u001b[0m\u001b[0mall_args\u001b[0m\u001b[1;33m)\u001b[0m\u001b[1;33m\u001b[0m\u001b[1;33m\u001b[0m\u001b[0m\n\u001b[0;32m     62\u001b[0m             \u001b[1;32mif\u001b[0m \u001b[0mextra_args\u001b[0m \u001b[1;33m<=\u001b[0m \u001b[1;36m0\u001b[0m\u001b[1;33m:\u001b[0m\u001b[1;33m\u001b[0m\u001b[1;33m\u001b[0m\u001b[0m\n\u001b[1;32m---> 63\u001b[1;33m                 \u001b[1;32mreturn\u001b[0m \u001b[0mf\u001b[0m\u001b[1;33m(\u001b[0m\u001b[1;33m*\u001b[0m\u001b[0margs\u001b[0m\u001b[1;33m,\u001b[0m \u001b[1;33m**\u001b[0m\u001b[0mkwargs\u001b[0m\u001b[1;33m)\u001b[0m\u001b[1;33m\u001b[0m\u001b[1;33m\u001b[0m\u001b[0m\n\u001b[0m\u001b[0;32m     64\u001b[0m \u001b[1;33m\u001b[0m\u001b[0m\n\u001b[0;32m     65\u001b[0m             \u001b[1;31m# extra_args > 0\u001b[0m\u001b[1;33m\u001b[0m\u001b[1;33m\u001b[0m\u001b[1;33m\u001b[0m\u001b[0m\n",
      "\u001b[1;32m~\\AppData\\Local\\Packages\\PythonSoftwareFoundation.Python.3.8_qbz5n2kfra8p0\\LocalCache\\local-packages\\Python38\\site-packages\\sklearn\\preprocessing\\_data.py\u001b[0m in \u001b[0;36mscale\u001b[1;34m(X, axis, with_mean, with_std, copy)\u001b[0m\n\u001b[0;32m    159\u001b[0m \u001b[1;33m\u001b[0m\u001b[0m\n\u001b[0;32m    160\u001b[0m     \"\"\"  # noqa\n\u001b[1;32m--> 161\u001b[1;33m     X = check_array(X, accept_sparse='csc', copy=copy, ensure_2d=False,\n\u001b[0m\u001b[0;32m    162\u001b[0m                     \u001b[0mestimator\u001b[0m\u001b[1;33m=\u001b[0m\u001b[1;34m'the scale function'\u001b[0m\u001b[1;33m,\u001b[0m \u001b[0mdtype\u001b[0m\u001b[1;33m=\u001b[0m\u001b[0mFLOAT_DTYPES\u001b[0m\u001b[1;33m,\u001b[0m\u001b[1;33m\u001b[0m\u001b[1;33m\u001b[0m\u001b[0m\n\u001b[0;32m    163\u001b[0m                     force_all_finite='allow-nan')\n",
      "\u001b[1;32m~\\AppData\\Local\\Packages\\PythonSoftwareFoundation.Python.3.8_qbz5n2kfra8p0\\LocalCache\\local-packages\\Python38\\site-packages\\sklearn\\utils\\validation.py\u001b[0m in \u001b[0;36minner_f\u001b[1;34m(*args, **kwargs)\u001b[0m\n\u001b[0;32m     61\u001b[0m             \u001b[0mextra_args\u001b[0m \u001b[1;33m=\u001b[0m \u001b[0mlen\u001b[0m\u001b[1;33m(\u001b[0m\u001b[0margs\u001b[0m\u001b[1;33m)\u001b[0m \u001b[1;33m-\u001b[0m \u001b[0mlen\u001b[0m\u001b[1;33m(\u001b[0m\u001b[0mall_args\u001b[0m\u001b[1;33m)\u001b[0m\u001b[1;33m\u001b[0m\u001b[1;33m\u001b[0m\u001b[0m\n\u001b[0;32m     62\u001b[0m             \u001b[1;32mif\u001b[0m \u001b[0mextra_args\u001b[0m \u001b[1;33m<=\u001b[0m \u001b[1;36m0\u001b[0m\u001b[1;33m:\u001b[0m\u001b[1;33m\u001b[0m\u001b[1;33m\u001b[0m\u001b[0m\n\u001b[1;32m---> 63\u001b[1;33m                 \u001b[1;32mreturn\u001b[0m \u001b[0mf\u001b[0m\u001b[1;33m(\u001b[0m\u001b[1;33m*\u001b[0m\u001b[0margs\u001b[0m\u001b[1;33m,\u001b[0m \u001b[1;33m**\u001b[0m\u001b[0mkwargs\u001b[0m\u001b[1;33m)\u001b[0m\u001b[1;33m\u001b[0m\u001b[1;33m\u001b[0m\u001b[0m\n\u001b[0m\u001b[0;32m     64\u001b[0m \u001b[1;33m\u001b[0m\u001b[0m\n\u001b[0;32m     65\u001b[0m             \u001b[1;31m# extra_args > 0\u001b[0m\u001b[1;33m\u001b[0m\u001b[1;33m\u001b[0m\u001b[1;33m\u001b[0m\u001b[0m\n",
      "\u001b[1;32m~\\AppData\\Local\\Packages\\PythonSoftwareFoundation.Python.3.8_qbz5n2kfra8p0\\LocalCache\\local-packages\\Python38\\site-packages\\sklearn\\utils\\validation.py\u001b[0m in \u001b[0;36mcheck_array\u001b[1;34m(array, accept_sparse, accept_large_sparse, dtype, order, copy, force_all_finite, ensure_2d, allow_nd, ensure_min_samples, ensure_min_features, estimator)\u001b[0m\n\u001b[0;32m    714\u001b[0m                     \"into decimal numbers with dtype='numeric'\") from e\n\u001b[0;32m    715\u001b[0m         \u001b[1;32mif\u001b[0m \u001b[1;32mnot\u001b[0m \u001b[0mallow_nd\u001b[0m \u001b[1;32mand\u001b[0m \u001b[0marray\u001b[0m\u001b[1;33m.\u001b[0m\u001b[0mndim\u001b[0m \u001b[1;33m>=\u001b[0m \u001b[1;36m3\u001b[0m\u001b[1;33m:\u001b[0m\u001b[1;33m\u001b[0m\u001b[1;33m\u001b[0m\u001b[0m\n\u001b[1;32m--> 716\u001b[1;33m             raise ValueError(\"Found array with dim %d. %s expected <= 2.\"\n\u001b[0m\u001b[0;32m    717\u001b[0m                              % (array.ndim, estimator_name))\n\u001b[0;32m    718\u001b[0m \u001b[1;33m\u001b[0m\u001b[0m\n",
      "\u001b[1;31mValueError\u001b[0m: Found array with dim 4. the scale function expected <= 2."
     ]
    }
   ],
   "source": [
    "# Evaluate best model via validation accuracy\n",
    "best_CNN_idx = CNN_val_accs.index(max(CNN_val_accs))\n",
    "best_CNN = CNN_models[best_CNN_idx]\n",
    "model_type_best.append(best_CNN)\n",
    "best_CNN.summary()\n",
    "\n",
    "activation = best_CNN.layers[0].get_config()['activation']\n",
    "num_layers = len(best_CNN.layers)\n",
    "\n",
    "print('\\n\\tActivation: %s\\n\\tNumber of Layers: %d'%(activation, num_layers))\n",
    "\n",
    "# DO I NEED TO DO THIS???\n",
    "# Evaluate on validation accuracy again and plot \n",
    "CNN_eval = best_CNN.evaluate(x=x_val_img, y=y_val_one_hot, use_multiprocessing=True, verbose=0)\n",
    "CNN_loss = CNN_eval[0]\n",
    "CNN_acc = CNN_eval[1]\n",
    "\n",
    "model_type_accs.append(CNN_acc)\n",
    "\n",
    "print('\\nValidation Set Evaluation:')\n",
    "print('\\tLoss: %f | Accuracy: %f'%(CNN_loss, CNN_acc))\n",
    "# Plot training history (train/validation loss and accuracy values throughout training):\n",
    "loss = training_history.history['loss']\n",
    "val_loss = training_history.history['val_loss']\n",
    "epochs = range(1, len(loss) + 1)\n",
    "plt.plot(epochs, loss, 'y', label='Training loss')\n",
    "plt.plot(epochs, val_loss, 'r', label='Validation loss')\n",
    "plt.title('Training and validation loss')\n",
    "plt.xlabel('Epochs')\n",
    "plt.ylabel('Loss')\n",
    "plt.legend()\n",
    "plt.show()\n",
    "\n",
    "acc = training_history.history['accuracy']\n",
    "val_acc = training_history.history['val_accuracy']\n",
    "\n",
    "plt.plot(epochs, acc, 'y', label='Training Accuracy')\n",
    "plt.plot(epochs, val_acc, 'r', label='Validation Accuracy')\n",
    "plt.title('Training and validation Accuracy')\n",
    "plt.xlabel('Epochs')\n",
    "plt.ylabel('Accuracy')\n",
    "plt.legend()\n",
    "plt.show()"
   ]
  },
  {
   "cell_type": "markdown",
   "metadata": {},
   "source": [
    "## Model 3 - SVC"
   ]
  },
  {
   "cell_type": "markdown",
   "metadata": {},
   "source": [
    "Test SVC Model"
   ]
  },
  {
   "cell_type": "code",
   "execution_count": null,
   "metadata": {},
   "outputs": [],
   "source": [
    "# Set up hyperparameters to test\n",
    "Cs = [0.25, 0.5, 1]\n",
    "kernels = ['poly', 'rbf', 'sigmoid'] # Dont use linear because linear is worse rbf\n",
    "SVC_params = list(itertools.product(Cs, kernels))\n",
    "\n",
    "if easy_params:\n",
    "    SVC_params = [(1, 'rbf')]\n",
    "\n",
    "SVC_val_accs = []\n",
    "SVC_models = []\n",
    "\n",
    "verbose=False\n",
    "# Train and evaluate models\n",
    "for C, kernel in SVC_params:\n",
    "    SVC = svm.SVC(C=C, kernel=kernel, verbose=verbose)\n",
    "    # Fit model\n",
    "    SVC.fit(x_train, y_train)\n",
    "    #Evaluate\n",
    "    SVC_models.append(SVC)\n",
    "    y_pred = SVC.predict(x_val)\n",
    "    SVC_val_accs.append(accuracy_score(y_val, y_pred))"
   ]
  },
  {
   "cell_type": "markdown",
   "metadata": {},
   "source": [
    "Determine best SVC model (using validation set)"
   ]
  },
  {
   "cell_type": "code",
   "execution_count": null,
   "metadata": {},
   "outputs": [
    {
     "name": "stdout",
     "output_type": "stream",
     "text": [
      "\n",
      "Validation Set Evaluation:\n",
      "\tAccuracy: 0.976131\n",
      "\n",
      "Model Parameters:\n",
      "{'C': 1, 'break_ties': False, 'cache_size': 200, 'class_weight': None, 'coef0': 0.0, 'decision_function_shape': 'ovr', 'degree': 3, 'gamma': 'scale', 'kernel': 'rbf', 'max_iter': -1, 'probability': False, 'random_state': None, 'shrinking': True, 'tol': 0.001, 'verbose': False}\n"
     ]
    }
   ],
   "source": [
    "# Evaluate best model via validation accuracy\n",
    "best_SVC_idx = SVC_val_accs.index(max(SVC_val_accs))\n",
    "best_SVC = SVC_models[best_SVC_idx]\n",
    "model_type_best.append(best_SVC)\n",
    "\n",
    "print('\\nValidation Set Evaluation:')\n",
    "print('\\tAccuracy: %f'%(max(SVC_val_accs)))\n",
    "print('\\nModel Parameters:')\n",
    "SVC_params = best_SVC.get_params(deep=False)\n",
    "print('\\tC: %d'%(SVC_params['C']))\n",
    "print('\\tKernel: %s'%(SVC_params['kernel']))"
   ]
  },
  {
   "cell_type": "markdown",
   "metadata": {},
   "source": [
    "# Final Model Selection"
   ]
  },
  {
   "cell_type": "markdown",
   "metadata": {},
   "source": [
    "Determine best model via validation data"
   ]
  },
  {
   "cell_type": "code",
   "execution_count": null,
   "metadata": {},
   "outputs": [],
   "source": [
    "best_model_idx = model_type_accs.index(max(model_type_accs))\n",
    "best_model = model_type_best[best_model_idx]"
   ]
  },
  {
   "cell_type": "markdown",
   "metadata": {},
   "source": [
    "Evaluate best model performance on test data"
   ]
  },
  {
   "cell_type": "code",
   "execution_count": null,
   "metadata": {},
   "outputs": [
    {
     "name": "stdout",
     "output_type": "stream",
     "text": [
      "Model Type -> MLP\n",
      "Model: \"sequential\"\n",
      "_________________________________________________________________\n",
      "Layer (type)                 Output Shape              Param #   \n",
      "=================================================================\n",
      "dense (Dense)                (None, 32)                25120     \n",
      "_________________________________________________________________\n",
      "dense_1 (Dense)              (None, 10)                330       \n",
      "=================================================================\n",
      "Total params: 25,450\n",
      "Trainable params: 25,450\n",
      "Non-trainable params: 0\n",
      "_________________________________________________________________\n",
      "\n",
      "\tActivation: relu\n",
      "\tNumber of Layers: 2\n",
      "\n",
      "Test Set Evaluation:\n",
      "\tLoss: 0.365525 | Accuracy: 0.906643\n"
     ]
    }
   ],
   "source": [
    "if best_model_idx == 2: # SVM model\n",
    "    print('Model Type -> SVC')\n",
    "    y_pred = SVC.predict(x_test)\n",
    "    best_acc = accuracy_score(y_test, y_pred)\n",
    "    print('\\nTest Set Evaluation:')\n",
    "    print('\\tAccuracy: %f'%(best_acc))\n",
    "    \n",
    "else: # MLP OR CNN\n",
    "    if best_model_idx == 0: \n",
    "        print('Model Type -> MLP')\n",
    "        best_eval = best_model.evaluate(x=x_test_scale, y=y_test_one_hot, use_multiprocessing=True, verbose=0)\n",
    "    else: \n",
    "        print('Model Type -> CNN')\n",
    "        best_eval = best_model.evaluate(x=x_test_img, y=y_test_one_hot, use_multiprocessing=True, verbose=0)\n",
    "    \n",
    "    best_model.summary()\n",
    "    activation = best_model.layers[0].get_config()['activation']\n",
    "    num_layers = len(best_model.layers)\n",
    "    print('\\n\\tActivation: %s\\n\\tNumber of Layers: %d'%(activation, num_layers))\n",
    "    \n",
    "    best_loss = best_eval[0]\n",
    "    best_acc = best_eval[1]\n",
    "\n",
    "    print('\\nTest Set Evaluation:')\n",
    "    print('\\tLoss: %f | Accuracy: %f'%(best_loss, best_acc))"
   ]
  }
 ],
 "metadata": {
  "interpreter": {
   "hash": "f8dc394fe8b851e8fee8bf44b9060daf20dc28cf237837a1e07d4467514055a5"
  },
  "kernelspec": {
   "display_name": "Python 3.8.10 64-bit (windows store)",
   "name": "python3"
  },
  "language_info": {
   "codemirror_mode": {
    "name": "ipython",
    "version": 3
   },
   "file_extension": ".py",
   "mimetype": "text/x-python",
   "name": "python",
   "nbconvert_exporter": "python",
   "pygments_lexer": "ipython3",
   "version": "3.8.10"
  },
  "orig_nbformat": 4
 },
 "nbformat": 4,
 "nbformat_minor": 2
}
