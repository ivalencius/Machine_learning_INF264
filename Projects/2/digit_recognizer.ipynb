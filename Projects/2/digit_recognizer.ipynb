{
 "cells": [
  {
   "cell_type": "markdown",
   "metadata": {},
   "source": [
    "# Digit Recognizer\n",
    "Ilan Valencius"
   ]
  },
  {
   "cell_type": "code",
   "execution_count": 1,
   "metadata": {},
   "outputs": [],
   "source": [
    "from sklearn.model_selection import train_test_split\n",
    "from sklearn.metrics import accuracy_score\n",
    "import numpy as np\n",
    "import matplotlib.pyplot as plt\n",
    "import itertools\n",
    "from sklearn import svm\n",
    "from sklearn.preprocessing import scale\n",
    "import tensorflow as tf\n",
    "from tensorflow.keras.callbacks import EarlyStopping\n",
    "from tensorflow.keras import Sequential, layers\n",
    "from tensorflow.keras.losses import categorical_crossentropy\n",
    "from tensorflow.keras.utils import to_categorical"
   ]
  },
  {
   "cell_type": "markdown",
   "metadata": {},
   "source": [
    "## Code Parameters"
   ]
  },
  {
   "cell_type": "code",
   "execution_count": 2,
   "metadata": {},
   "outputs": [],
   "source": [
    "# Set to true to only train one type of each model for easy checking\n",
    "easy_params = False\n",
    "# Control keras training parameters (speed and code clarity)\n",
    "verbose = 0 # Set to 0 to hide\n",
    "batch_sz = 256\n",
    "max_epochs = 15 # Lower to increase speed when quickly checking models\n",
    "\n",
    "# If you want Val_loss and Val_accuracy plots \n",
    "MLP_plotting = False\n",
    "CNN_plotting = False"
   ]
  },
  {
   "cell_type": "markdown",
   "metadata": {},
   "source": [
    "To reproduce results"
   ]
  },
  {
   "cell_type": "code",
   "execution_count": 3,
   "metadata": {},
   "outputs": [],
   "source": [
    "seed = 100\n",
    "tf.random.set_seed(seed)"
   ]
  },
  {
   "cell_type": "markdown",
   "metadata": {},
   "source": [
    "## Load Data\n"
   ]
  },
  {
   "cell_type": "code",
   "execution_count": 4,
   "metadata": {},
   "outputs": [
    {
     "data": {
      "text/plain": [
       "<matplotlib.image.AxesImage at 0x1b62d406310>"
      ]
     },
     "execution_count": 4,
     "metadata": {},
     "output_type": "execute_result"
    },
    {
     "data": {
      "image/png": "[encoded data removed]",
      "text/plain": [
       "<Figure size 432x288 with 1 Axes>"
      ]
     },
     "metadata": {
      "needs_background": "light"
     },
     "output_type": "display_data"
    }
   ],
   "source": [
    "# Load CSV data\n",
    "x_data = np.genfromtxt('handwritten_digits_images.csv', delimiter=',')\n",
    "y_data = np.genfromtxt('handwritten_digits_labels.csv', delimiter=',')\n",
    "\n",
    "# Plot image for quick sanity check\n",
    "plt.imshow(x_data.reshape(x_data.shape[0], 28, 28)[60000], cmap='Greys')"
   ]
  },
  {
   "cell_type": "markdown",
   "metadata": {},
   "source": [
    "Create train, validation, test sets"
   ]
  },
  {
   "cell_type": "code",
   "execution_count": 5,
   "metadata": {},
   "outputs": [],
   "source": [
    "x_train_val, x_test, y_train_val, y_test = train_test_split(x_data,\n",
    "                                                            y_data,\n",
    "                                                            test_size=0.2,\n",
    "                                                            random_state=seed,\n",
    "                                                            shuffle=True)\n",
    "\n",
    "x_train, x_val, y_train, y_val = train_test_split(x_train_val,\n",
    "                                                  y_train_val,\n",
    "                                                  test_size=0.3,\n",
    "                                                  random_state=seed, \n",
    "                                                  shuffle=True)\n",
    "\n",
    "# Variables for model parameters\n",
    "y_classes = len(np.unique(y_data))"
   ]
  },
  {
   "cell_type": "markdown",
   "metadata": {},
   "source": [
    "Lists to store the best model from each type and its respective validation accuracy"
   ]
  },
  {
   "cell_type": "code",
   "execution_count": 6,
   "metadata": {},
   "outputs": [],
   "source": [
    "# To compare models\n",
    "model_type_accs = []\n",
    "model_type_best = []\n",
    "\n",
    "# For CNN and MLP\n",
    "y_train_one_hot = to_categorical(y_train)\n",
    "y_val_one_hot = to_categorical(y_val)\n",
    "y_test_one_hot = to_categorical(y_test)\n",
    "\n",
    "# For MLP \n",
    "x_train_scale = scale(x_train)\n",
    "x_val_scale = scale(x_val)\n",
    "x_test_scale = scale(x_test)\n",
    "\n",
    "# For CNN\n",
    "x_train_img = x_train_scale.reshape(x_train_scale.shape[0], 28, 28, 1)\n",
    "x_val_img = x_val_scale.reshape(x_val_scale.shape[0], 28, 28, 1)\n",
    "x_test_img = x_test_scale.reshape(x_test_scale.shape[0], 28, 28, 1)"
   ]
  },
  {
   "cell_type": "markdown",
   "metadata": {},
   "source": [
    "## Model 1 - MLP"
   ]
  },
  {
   "cell_type": "code",
   "execution_count": 7,
   "metadata": {},
   "outputs": [],
   "source": [
    "def construct_MLP(input_shape, add_layer=False, activation='relu'):\n",
    "    # Create model\n",
    "    MLP = Sequential()\n",
    "    MLP.add(layers.InputLayer(input_shape=input_shape))\n",
    "    # Intermediate Layers\n",
    "    if add_layer:\n",
    "        MLP.add(layers.Dense(32, activation=activation))\n",
    "    # Output layer (fully-connected):\n",
    "    MLP.add(layers.Dense(y_classes, activation='softmax'))\n",
    "    # Compile Model\n",
    "    MLP.compile(optimizer='adam',\n",
    "                loss=categorical_crossentropy,\n",
    "                metrics=['accuracy'])\n",
    "    return MLP\n",
    "            "
   ]
  },
  {
   "cell_type": "markdown",
   "metadata": {},
   "source": [
    "Test MLP Model"
   ]
  },
  {
   "cell_type": "code",
   "execution_count": 8,
   "metadata": {},
   "outputs": [],
   "source": [
    "# Set up hyperparameters to test\n",
    "add_layers = [True, False]\n",
    "activation = ['relu', 'sigmoid', 'softmax', 'tanh']\n",
    "MLP_params = list(itertools.product(add_layers, activation))\n",
    "\n",
    "if easy_params:\n",
    "    MLP_params = [(True, 'relu')]\n",
    "\n",
    "MLP_val_accs = []\n",
    "MLP_models = []\n",
    "\n",
    "# Iterate through and test every model\n",
    "for add_layer, act in MLP_params:\n",
    "    # print(tf.config.list_physical_devices())\n",
    "    MLP = construct_MLP(input_shape=784,add_layer=add_layer, activation=act)\n",
    "    # MLP_test.summary()\n",
    "    # Early callback stopping to avoid overfitting\n",
    "    callback = EarlyStopping(monitor='val_loss',\n",
    "                             patience=3,\n",
    "                             restore_best_weights=True)\n",
    "    \n",
    "    training_history = MLP.fit(x=x_train_scale,y=y_train_one_hot,\n",
    "                                batch_size=batch_sz,\n",
    "                                epochs=max_epochs,\n",
    "                                validation_data=(x_val_scale,y_val_one_hot),\n",
    "                                use_multiprocessing=True,\n",
    "                                verbose=verbose,\n",
    "                                callbacks=[callback])\n",
    "    MLP_models.append(MLP)\n",
    "    \n",
    "    # val_acc = training_history.history['val_accuracy']\n",
    "    MLP_eval = MLP.evaluate(x=x_val_scale, y=y_val_one_hot, use_multiprocessing=True, verbose=0)\n",
    "    val_acc = MLP_eval[1]\n",
    "    MLP_val_accs.append(val_acc)\n",
    "    \n",
    "    if MLP_plotting:\n",
    "        fig, (ax1, ax2) = plt.subplots(1, 2)\n",
    "        fig.suptitle('MLP Model - additional layer ->  %s | activation -> %s'%(add_layer, act))\n",
    "        \n",
    "        loss = training_history.history['loss']\n",
    "        val_loss = training_history.history['val_loss']\n",
    "        acc = training_history.history['accuracy']\n",
    "        val_acc = training_history.history['val_accuracy']\n",
    "        \n",
    "        epochs = range(1, len(loss) + 1)\n",
    "        ax1.plot(epochs, loss, 'y', label='Training loss')\n",
    "        ax1.plot(epochs, val_loss, 'r', label='Validation loss')\n",
    "        ax1.title.set_text('Training and validation loss')\n",
    "        ax1.set_xlabel('Epochs')\n",
    "        ax1.set_ylabel('Loss')\n",
    "        ax1.legend(loc='best')\n",
    "        \n",
    "        ax2.plot(epochs, acc, 'y', label='Training Accuracy')\n",
    "        ax2.plot(epochs, val_acc, 'r', label='Validation Accuracy')\n",
    "        ax2.title.set_text('Training and validation Accuracy')\n",
    "        ax2.set_xlabel('Epochs')\n",
    "        ax2.set_ylabel('Accuracy')\n",
    "        ax2.legend(loc='best')\n",
    " "
   ]
  },
  {
   "cell_type": "markdown",
   "metadata": {},
   "source": [
    "Determine best MLP model (using validation set)"
   ]
  },
  {
   "cell_type": "code",
   "execution_count": 9,
   "metadata": {},
   "outputs": [
    {
     "name": "stdout",
     "output_type": "stream",
     "text": [
      "Model: \"sequential\"\n",
      "_________________________________________________________________\n",
      "Layer (type)                 Output Shape              Param #   \n",
      "=================================================================\n",
      "dense (Dense)                (None, 32)                25120     \n",
      "_________________________________________________________________\n",
      "dense_1 (Dense)              (None, 10)                330       \n",
      "=================================================================\n",
      "Total params: 25,450\n",
      "Trainable params: 25,450\n",
      "Non-trainable params: 0\n",
      "_________________________________________________________________\n",
      "\n",
      "\tActivation: softmax\n",
      "\tNumber of Layers: 2\n",
      "\n",
      "Validation Set Evaluation:\n",
      "\tLoss: 0.164571 | Accuracy: 0.952143\n"
     ]
    },
    {
     "data": {
      "image/png": "[encoded data removed]",
      "text/plain": [
       "<Figure size 432x288 with 1 Axes>"
      ]
     },
     "metadata": {
      "needs_background": "light"
     },
     "output_type": "display_data"
    },
    {
     "data": {
      "image/png": "[encoded data removed]",
      "text/plain": [
       "<Figure size 432x288 with 1 Axes>"
      ]
     },
     "metadata": {
      "needs_background": "light"
     },
     "output_type": "display_data"
    }
   ],
   "source": [
    "# Evaluate best model via validation accuracy\n",
    "best_MLP_idx = MLP_val_accs.index(max(MLP_val_accs))\n",
    "best_MLP = MLP_models[best_MLP_idx]\n",
    "model_type_best.append(best_MLP)\n",
    "best_MLP.summary()\n",
    "\n",
    "activation = best_MLP.layers[1].get_config()['activation']\n",
    "num_layers = len(best_MLP.layers)\n",
    "\n",
    "print('\\n\\tActivation: %s\\n\\tNumber of Layers: %d'%(activation, num_layers))\n",
    "\n",
    "# Evaluate on validation accuracy again and plot \n",
    "MLP_eval = best_MLP.evaluate(x=x_val_scale, y=y_val_one_hot, use_multiprocessing=True, verbose=0)\n",
    "MLP_loss = MLP_eval[0]\n",
    "MLP_acc = MLP_eval[1]\n",
    "\n",
    "model_type_accs.append(MLP_acc)\n",
    "\n",
    "print('\\nValidation Set Evaluation:')\n",
    "print('\\tLoss: %f | Accuracy: %f'%(MLP_loss, MLP_acc))\n",
    "# Plot training history (train/validation loss and accuracy values throughout training):\n",
    "loss = training_history.history['loss']\n",
    "val_loss = training_history.history['val_loss']\n",
    "epochs = range(1, len(loss) + 1)\n",
    "plt.plot(epochs, loss, 'y', label='Training loss')\n",
    "plt.plot(epochs, val_loss, 'r', label='Validation loss')\n",
    "plt.title('Training and validation loss')\n",
    "plt.xlabel('Epochs')\n",
    "plt.ylabel('Loss')\n",
    "plt.legend()\n",
    "plt.show()\n",
    "\n",
    "acc = training_history.history['accuracy']\n",
    "val_acc = training_history.history['val_accuracy']\n",
    "\n",
    "plt.plot(epochs, acc, 'y', label='Training Accuracy')\n",
    "plt.plot(epochs, val_acc, 'r', label='Validation Accuracy')\n",
    "plt.title('Training and validation Accuracy')\n",
    "plt.xlabel('Epochs')\n",
    "plt.ylabel('Accuracy')\n",
    "plt.legend()\n",
    "plt.show()"
   ]
  },
  {
   "cell_type": "markdown",
   "metadata": {},
   "source": [
    "## Model 2 - CNN"
   ]
  },
  {
   "cell_type": "code",
   "execution_count": 10,
   "metadata": {},
   "outputs": [],
   "source": [
    "def construct_CNN(input_shape, additional_layer=False, activation='relu'):\n",
    "    # Create model\n",
    "    CNN = Sequential()\n",
    "    # Intermediate Layers\n",
    "    CNN.add(layers.Conv2D(28, (3, 3), activation=activation, input_shape=input_shape))\n",
    "    CNN.add(layers.MaxPooling2D((2, 2)))\n",
    "    CNN.add(layers.Conv2D(56, (3, 3), activation=activation))\n",
    "    if additional_layer:\n",
    "        CNN.add(layers.MaxPooling2D((2, 2)))\n",
    "        CNN.add(layers.Conv2D(56, (3, 3), activation=activation))\n",
    "    # Output layer (fully-connected):\n",
    "    CNN.add(layers.Flatten())\n",
    "    CNN.add(layers.Dense(y_classes, activation='softmax'))\n",
    "    # Compile Model\n",
    "    CNN.compile(optimizer='adam',\n",
    "                loss=categorical_crossentropy,\n",
    "                metrics=['accuracy'])\n",
    "    return CNN"
   ]
  },
  {
   "cell_type": "markdown",
   "metadata": {},
   "source": [
    "Test CNN Model"
   ]
  },
  {
   "cell_type": "code",
   "execution_count": 11,
   "metadata": {},
   "outputs": [],
   "source": [
    "# Set up hyperparameters to test\n",
    "add_layers = [False, True]\n",
    "activation = ['relu', 'sigmoid', 'softmax', 'tanh']\n",
    "CNN_params = list(itertools.product(add_layers, activation))\n",
    "\n",
    "if easy_params:\n",
    "    CNN_params = [(True, 'relu')]\n",
    "\n",
    "CNN_val_accs = []\n",
    "CNN_models = []\n",
    "\n",
    "# Iterate through and test every model\n",
    "for add_layer, act in CNN_params:\n",
    "    CNN = construct_CNN(input_shape=(28, 28, 1) ,additional_layer=add_layer, activation=act)\n",
    "    # CNN.summary()\n",
    "    # Early callback stopping to avoid overfitting\n",
    "    callback = EarlyStopping(monitor='val_loss',\n",
    "                             patience=3,\n",
    "                             restore_best_weights=True)\n",
    "    \n",
    "    training_history = CNN.fit(x=x_train_img,y=y_train_one_hot,\n",
    "                                batch_size=batch_sz,\n",
    "                                epochs=max_epochs,\n",
    "                                validation_data=(x_val_img,y_val_one_hot),\n",
    "                                use_multiprocessing=True,\n",
    "                                verbose=verbose,\n",
    "                                callbacks=[callback])\n",
    "    CNN_models.append(CNN)\n",
    "    \n",
    "    # val_acc = training_history.history['val_accuracy']\n",
    "    CNN_eval = CNN.evaluate(x=x_val_img, y=y_val_one_hot, use_multiprocessing=True, verbose=0)\n",
    "    val_acc = CNN_eval[1]\n",
    "    CNN_val_accs.append(val_acc)\n",
    "    if CNN_plotting:\n",
    "        fig, (ax1, ax2) = plt.subplots(1, 2)\n",
    "        fig.suptitle('CNN Model - additional layer -> %s | activation -> %s'%(add_layer, act))\n",
    "        \n",
    "        loss = training_history.history['loss']\n",
    "        val_loss = training_history.history['val_loss']\n",
    "        acc = training_history.history['accuracy']\n",
    "        val_acc = training_history.history['val_accuracy']\n",
    "        \n",
    "        epochs = range(1, len(loss) + 1)\n",
    "        ax1.plot(epochs, loss, 'y', label='Training loss')\n",
    "        ax1.plot(epochs, val_loss, 'r', label='Validation loss')\n",
    "        ax1.title.set_text('Training and validation loss')\n",
    "        ax1.set_xlabel('Epochs')\n",
    "        ax1.set_ylabel('Loss')\n",
    "        ax1.legend(loc='best')\n",
    "        \n",
    "        ax2.plot(epochs, acc, 'y', label='Training Accuracy')\n",
    "        ax2.plot(epochs, val_acc, 'r', label='Validation Accuracy')\n",
    "        ax2.title.set_text('Training and validation Accuracy')\n",
    "        ax2.set_xlabel('Epochs')\n",
    "        ax2.set_ylabel('Accuracy')\n",
    "        ax2.legend(loc='best')"
   ]
  },
  {
   "cell_type": "markdown",
   "metadata": {},
   "source": [
    "Determine best CNN Model (using validation set)"
   ]
  },
  {
   "cell_type": "code",
   "execution_count": 12,
   "metadata": {},
   "outputs": [
    {
     "name": "stdout",
     "output_type": "stream",
     "text": [
      "Model: \"sequential_15\"\n",
      "_________________________________________________________________\n",
      "Layer (type)                 Output Shape              Param #   \n",
      "=================================================================\n",
      "conv2d_17 (Conv2D)           (None, 26, 26, 28)        280       \n",
      "_________________________________________________________________\n",
      "max_pooling2d_10 (MaxPooling (None, 13, 13, 28)        0         \n",
      "_________________________________________________________________\n",
      "conv2d_18 (Conv2D)           (None, 11, 11, 56)        14168     \n",
      "_________________________________________________________________\n",
      "max_pooling2d_11 (MaxPooling (None, 5, 5, 56)          0         \n",
      "_________________________________________________________________\n",
      "conv2d_19 (Conv2D)           (None, 3, 3, 56)          28280     \n",
      "_________________________________________________________________\n",
      "flatten_7 (Flatten)          (None, 504)               0         \n",
      "_________________________________________________________________\n",
      "dense_19 (Dense)             (None, 10)                5050      \n",
      "=================================================================\n",
      "Total params: 47,778\n",
      "Trainable params: 47,778\n",
      "Non-trainable params: 0\n",
      "_________________________________________________________________\n",
      "\n",
      "\tActivation: tanh\n",
      "\tNumber of Layers: 7\n",
      "\n",
      "Validation Set Evaluation:\n",
      "\tLoss: 0.038265 | Accuracy: 0.988155\n"
     ]
    },
    {
     "data": {
      "image/png": "[encoded data removed]",
      "text/plain": [
       "<Figure size 432x288 with 1 Axes>"
      ]
     },
     "metadata": {
      "needs_background": "light"
     },
     "output_type": "display_data"
    },
    {
     "data": {
      "image/png": "[encoded data removed]",
      "text/plain": [
       "<Figure size 432x288 with 1 Axes>"
      ]
     },
     "metadata": {
      "needs_background": "light"
     },
     "output_type": "display_data"
    }
   ],
   "source": [
    "# Evaluate best model via validation accuracy\n",
    "best_CNN_idx = CNN_val_accs.index(max(CNN_val_accs))\n",
    "best_CNN = CNN_models[best_CNN_idx]\n",
    "model_type_best.append(best_CNN)\n",
    "best_CNN.summary()\n",
    "\n",
    "activation = best_CNN.layers[0].get_config()['activation']\n",
    "num_layers = len(best_CNN.layers)\n",
    "\n",
    "print('\\n\\tActivation: %s\\n\\tNumber of Layers: %d'%(activation, num_layers))\n",
    "\n",
    "# DO I NEED TO DO THIS???\n",
    "# Evaluate on validation accuracy again and plot \n",
    "CNN_eval = best_CNN.evaluate(x=x_val_img, y=y_val_one_hot, use_multiprocessing=True, verbose=0)\n",
    "CNN_loss = CNN_eval[0]\n",
    "CNN_acc = CNN_eval[1]\n",
    "\n",
    "model_type_accs.append(CNN_acc)\n",
    "\n",
    "print('\\nValidation Set Evaluation:')\n",
    "print('\\tLoss: %f | Accuracy: %f'%(CNN_loss, CNN_acc))\n",
    "# Plot training history (train/validation loss and accuracy values throughout training):\n",
    "loss = training_history.history['loss']\n",
    "val_loss = training_history.history['val_loss']\n",
    "epochs = range(1, len(loss) + 1)\n",
    "plt.plot(epochs, loss, 'y', label='Training loss')\n",
    "plt.plot(epochs, val_loss, 'r', label='Validation loss')\n",
    "plt.title('Training and validation loss')\n",
    "plt.xlabel('Epochs')\n",
    "plt.ylabel('Loss')\n",
    "plt.legend()\n",
    "plt.show()\n",
    "\n",
    "acc = training_history.history['accuracy']\n",
    "val_acc = training_history.history['val_accuracy']\n",
    "\n",
    "plt.plot(epochs, acc, 'y', label='Training Accuracy')\n",
    "plt.plot(epochs, val_acc, 'r', label='Validation Accuracy')\n",
    "plt.title('Training and validation Accuracy')\n",
    "plt.xlabel('Epochs')\n",
    "plt.ylabel('Accuracy')\n",
    "plt.legend()\n",
    "plt.show()"
   ]
  },
  {
   "cell_type": "markdown",
   "metadata": {},
   "source": [
    "## Model 3 - SVC"
   ]
  },
  {
   "cell_type": "markdown",
   "metadata": {},
   "source": [
    "Test SVC Model"
   ]
  },
  {
   "cell_type": "code",
   "execution_count": 13,
   "metadata": {},
   "outputs": [],
   "source": [
    "# Set up hyperparameters to test\n",
    "Cs = [0.25, 0.5, 1]\n",
    "kernels = ['poly', 'rbf', 'sigmoid'] # Dont use linear because linear is worse rbf\n",
    "SVC_params = list(itertools.product(Cs, kernels))\n",
    "\n",
    "if easy_params:\n",
    "    SVC_params = [(1, 'rbf')]\n",
    "\n",
    "SVC_val_accs = []\n",
    "SVC_models = []\n",
    "\n",
    "verbose=False\n",
    "# Train and evaluate models\n",
    "for C, kernel in SVC_params:\n",
    "    SVC = svm.SVC(C=C, kernel=kernel, verbose=verbose)\n",
    "    # Fit model\n",
    "    SVC.fit(x_train, y_train)\n",
    "    #Evaluate\n",
    "    SVC_models.append(SVC)\n",
    "    y_pred = SVC.predict(x_val)\n",
    "    SVC_val_accs.append(accuracy_score(y_val, y_pred))"
   ]
  },
  {
   "cell_type": "markdown",
   "metadata": {},
   "source": [
    "Determine best SVC model (using validation set)"
   ]
  },
  {
   "cell_type": "code",
   "execution_count": 14,
   "metadata": {},
   "outputs": [
    {
     "name": "stdout",
     "output_type": "stream",
     "text": [
      "\n",
      "Validation Set Evaluation:\n",
      "\tAccuracy: 0.976667\n",
      "\n",
      "Model Parameters:\n",
      "\tC: 1\n",
      "\tKernel: rbf\n"
     ]
    }
   ],
   "source": [
    "# Evaluate best model via validation accuracy\n",
    "best_SVC_idx = SVC_val_accs.index(max(SVC_val_accs))\n",
    "best_SVC = SVC_models[best_SVC_idx]\n",
    "model_type_best.append(best_SVC)\n",
    "\n",
    "print('\\nValidation Set Evaluation:')\n",
    "print('\\tAccuracy: %f'%(max(SVC_val_accs)))\n",
    "print('\\nModel Parameters:')\n",
    "SVC_params = best_SVC.get_params(deep=False)\n",
    "print('\\tC: %d'%(SVC_params['C']))\n",
    "print('\\tKernel: %s'%(SVC_params['kernel']))"
   ]
  },
  {
   "cell_type": "markdown",
   "metadata": {},
   "source": [
    "# Final Model Selection"
   ]
  },
  {
   "cell_type": "markdown",
   "metadata": {},
   "source": [
    "Determine best model via validation data"
   ]
  },
  {
   "cell_type": "code",
   "execution_count": 15,
   "metadata": {},
   "outputs": [],
   "source": [
    "best_model_idx = model_type_accs.index(max(model_type_accs))\n",
    "best_model = model_type_best[best_model_idx]"
   ]
  },
  {
   "cell_type": "markdown",
   "metadata": {},
   "source": [
    "Evaluate best model performance on test data"
   ]
  },
  {
   "cell_type": "code",
   "execution_count": 16,
   "metadata": {},
   "outputs": [
    {
     "name": "stdout",
     "output_type": "stream",
     "text": [
      "Model Type -> CNN\n",
      "Model: \"sequential_15\"\n",
      "_________________________________________________________________\n",
      "Layer (type)                 Output Shape              Param #   \n",
      "=================================================================\n",
      "conv2d_17 (Conv2D)           (None, 26, 26, 28)        280       \n",
      "_________________________________________________________________\n",
      "max_pooling2d_10 (MaxPooling (None, 13, 13, 28)        0         \n",
      "_________________________________________________________________\n",
      "conv2d_18 (Conv2D)           (None, 11, 11, 56)        14168     \n",
      "_________________________________________________________________\n",
      "max_pooling2d_11 (MaxPooling (None, 5, 5, 56)          0         \n",
      "_________________________________________________________________\n",
      "conv2d_19 (Conv2D)           (None, 3, 3, 56)          28280     \n",
      "_________________________________________________________________\n",
      "flatten_7 (Flatten)          (None, 504)               0         \n",
      "_________________________________________________________________\n",
      "dense_19 (Dense)             (None, 10)                5050      \n",
      "=================================================================\n",
      "Total params: 47,778\n",
      "Trainable params: 47,778\n",
      "Non-trainable params: 0\n",
      "_________________________________________________________________\n",
      "\n",
      "\tActivation: tanh\n",
      "\tNumber of Layers: 7\n",
      "\n",
      "Test Set Evaluation:\n",
      "\tLoss: 0.036784 | Accuracy: 0.989643\n"
     ]
    }
   ],
   "source": [
    "if best_model_idx == 2: # SVC model\n",
    "    print('Model Type -> SVC')\n",
    "    y_pred = SVC.predict(x_test)\n",
    "    best_acc = accuracy_score(y_test, y_pred)\n",
    "    print('\\nTest Set Evaluation:')\n",
    "    print('\\tAccuracy: %f'%(best_acc))\n",
    "    \n",
    "else: # MLP OR CNN\n",
    "    if best_model_idx == 0: \n",
    "        print('Model Type -> MLP')\n",
    "        best_eval = best_model.evaluate(x=x_test_scale, y=y_test_one_hot, use_multiprocessing=True, verbose=0)\n",
    "    else: \n",
    "        print('Model Type -> CNN')\n",
    "        best_eval = best_model.evaluate(x=x_test_img, y=y_test_one_hot, use_multiprocessing=True, verbose=0)\n",
    "    \n",
    "    best_model.summary()\n",
    "    activation = best_model.layers[0].get_config()['activation']\n",
    "    num_layers = len(best_model.layers)\n",
    "    print('\\n\\tActivation: %s\\n\\tNumber of Layers: %d'%(activation, num_layers))\n",
    "    \n",
    "    best_loss = best_eval[0]\n",
    "    best_acc = best_eval[1]\n",
    "\n",
    "    print('\\nTest Set Evaluation:')\n",
    "    print('\\tLoss: %f | Accuracy: %f'%(best_loss, best_acc))"
   ]
  }
 ],
 "metadata": {
  "interpreter": {
   "hash": "7be7a0306104b9f816b1a7fc59a92a3edb25c33904fa3acf8ceea41b8684ace3"
  },
  "kernelspec": {
   "display_name": "Python 3.8.10 64-bit ('INF264': venv)",
   "name": "python3"
  },
  "language_info": {
   "codemirror_mode": {
    "name": "ipython",
    "version": 3
   },
   "file_extension": ".py",
   "mimetype": "text/x-python",
   "name": "python",
   "nbconvert_exporter": "python",
   "pygments_lexer": "ipython3",
   "version": "3.8.10"
  },
  "orig_nbformat": 4
 },
 "nbformat": 4,
 "nbformat_minor": 2
}
